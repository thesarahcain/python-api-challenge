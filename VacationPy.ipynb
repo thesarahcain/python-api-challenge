{
 "cells": [
  {
   "cell_type": "markdown",
   "metadata": {},
   "source": [
    "# VacationPy\n",
    "---\n",
    "\n",
    "## Starter Code to Import Libraries and Load the Weather and Coordinates Data"
   ]
  },
  {
   "cell_type": "code",
   "execution_count": 4,
   "metadata": {},
   "outputs": [],
   "source": [
    "# Dependencies and Setup\n",
    "import hvplot.pandas\n",
    "import pandas as pd\n",
    "import requests\n",
    "\n",
    "# Import API key\n",
    "from api_keys import geoapify_key"
   ]
  },
  {
   "cell_type": "code",
   "execution_count": 5,
   "metadata": {},
   "outputs": [
    {
     "data": {
      "text/html": [
       "<div>\n",
       "<style scoped>\n",
       "    .dataframe tbody tr th:only-of-type {\n",
       "        vertical-align: middle;\n",
       "    }\n",
       "\n",
       "    .dataframe tbody tr th {\n",
       "        vertical-align: top;\n",
       "    }\n",
       "\n",
       "    .dataframe thead th {\n",
       "        text-align: right;\n",
       "    }\n",
       "</style>\n",
       "<table border=\"1\" class=\"dataframe\">\n",
       "  <thead>\n",
       "    <tr style=\"text-align: right;\">\n",
       "      <th></th>\n",
       "      <th>City_ID</th>\n",
       "      <th>City</th>\n",
       "      <th>Lat</th>\n",
       "      <th>Lng</th>\n",
       "      <th>Max Temp</th>\n",
       "      <th>Humidity</th>\n",
       "      <th>Cloudiness</th>\n",
       "      <th>Wind Speed</th>\n",
       "      <th>Country</th>\n",
       "      <th>Date</th>\n",
       "    </tr>\n",
       "  </thead>\n",
       "  <tbody>\n",
       "    <tr>\n",
       "      <th>0</th>\n",
       "      <td>0</td>\n",
       "      <td>lorengau</td>\n",
       "      <td>-2.0226</td>\n",
       "      <td>147.2712</td>\n",
       "      <td>300.67</td>\n",
       "      <td>82</td>\n",
       "      <td>100</td>\n",
       "      <td>2.59</td>\n",
       "      <td>PG</td>\n",
       "      <td>1714760960</td>\n",
       "    </tr>\n",
       "    <tr>\n",
       "      <th>1</th>\n",
       "      <td>1</td>\n",
       "      <td>waitangi</td>\n",
       "      <td>-43.9535</td>\n",
       "      <td>-176.5597</td>\n",
       "      <td>282.49</td>\n",
       "      <td>82</td>\n",
       "      <td>91</td>\n",
       "      <td>3.58</td>\n",
       "      <td>NZ</td>\n",
       "      <td>1714760960</td>\n",
       "    </tr>\n",
       "    <tr>\n",
       "      <th>2</th>\n",
       "      <td>2</td>\n",
       "      <td>turpan</td>\n",
       "      <td>42.9333</td>\n",
       "      <td>89.1667</td>\n",
       "      <td>297.45</td>\n",
       "      <td>12</td>\n",
       "      <td>76</td>\n",
       "      <td>0.77</td>\n",
       "      <td>CN</td>\n",
       "      <td>1714760960</td>\n",
       "    </tr>\n",
       "    <tr>\n",
       "      <th>3</th>\n",
       "      <td>3</td>\n",
       "      <td>kingston</td>\n",
       "      <td>17.9970</td>\n",
       "      <td>-76.7936</td>\n",
       "      <td>303.68</td>\n",
       "      <td>70</td>\n",
       "      <td>40</td>\n",
       "      <td>8.23</td>\n",
       "      <td>JM</td>\n",
       "      <td>1714760753</td>\n",
       "    </tr>\n",
       "    <tr>\n",
       "      <th>4</th>\n",
       "      <td>4</td>\n",
       "      <td>nogliki</td>\n",
       "      <td>51.8333</td>\n",
       "      <td>143.1667</td>\n",
       "      <td>271.67</td>\n",
       "      <td>92</td>\n",
       "      <td>26</td>\n",
       "      <td>3.13</td>\n",
       "      <td>RU</td>\n",
       "      <td>1714760960</td>\n",
       "    </tr>\n",
       "  </tbody>\n",
       "</table>\n",
       "</div>"
      ],
      "text/plain": [
       "   City_ID      City      Lat       Lng  Max Temp  Humidity  Cloudiness  \\\n",
       "0        0  lorengau  -2.0226  147.2712    300.67        82         100   \n",
       "1        1  waitangi -43.9535 -176.5597    282.49        82          91   \n",
       "2        2    turpan  42.9333   89.1667    297.45        12          76   \n",
       "3        3  kingston  17.9970  -76.7936    303.68        70          40   \n",
       "4        4   nogliki  51.8333  143.1667    271.67        92          26   \n",
       "\n",
       "   Wind Speed Country        Date  \n",
       "0        2.59      PG  1714760960  \n",
       "1        3.58      NZ  1714760960  \n",
       "2        0.77      CN  1714760960  \n",
       "3        8.23      JM  1714760753  \n",
       "4        3.13      RU  1714760960  "
      ]
     },
     "execution_count": 5,
     "metadata": {},
     "output_type": "execute_result"
    }
   ],
   "source": [
    "# Load the CSV file created in Part 1 into a Pandas DataFrame\n",
    "city_data_df = pd.read_csv(\"output_data/cities.csv\")\n",
    "\n",
    "# Display sample data\n",
    "city_data_df.head()"
   ]
  },
  {
   "cell_type": "markdown",
   "metadata": {},
   "source": [
    "---\n",
    "\n",
    "### Step 1: Create a map that displays a point for every city in the `city_data_df` DataFrame. The size of the point should be the humidity in each city."
   ]
  },
  {
   "cell_type": "code",
   "execution_count": 6,
   "metadata": {},
   "outputs": [
    {
     "data": {},
     "metadata": {},
     "output_type": "display_data"
    },
    {
     "data": {
      "application/vnd.holoviews_exec.v0+json": "",
      "text/html": [
       "<div id='p1109'>\n",
       "  <div id=\"ab290303-82af-4b3e-8f01-6c66ef2ce088\" data-root-id=\"p1109\" style=\"display: contents;\"></div>\n",
       "</div>\n",
       "<script type=\"application/javascript\">(function(root) {\n",
       "  var docs_json = {\"547784c9-d765-4624-bc58-fb8cf2689a3e\":{\"version\":\"3.3.2\",\"title\":\"Bokeh Application\",\"roots\":[{\"type\":\"object\",\"name\":\"Row\",\"id\":\"p1109\",\"attributes\":{\"name\":\"Row01851\",\"tags\":[\"embedded\"],\"stylesheets\":[\"\\n:host(.pn-loading.pn-arc):before, .pn-loading.pn-arc:before {\\n  background-image: url(\\\"data:image/svg+xml;base64,PHN2ZyB4bWxucz0iaHR0cDovL3d3dy53My5vcmcvMjAwMC9zdmciIHN0eWxlPSJtYXJnaW46IGF1dG87IGJhY2tncm91bmQ6IG5vbmU7IGRpc3BsYXk6IGJsb2NrOyBzaGFwZS1yZW5kZXJpbmc6IGF1dG87IiB2aWV3Qm94PSIwIDAgMTAwIDEwMCIgcHJlc2VydmVBc3BlY3RSYXRpbz0ieE1pZFlNaWQiPiAgPGNpcmNsZSBjeD0iNTAiIGN5PSI1MCIgZmlsbD0ibm9uZSIgc3Ryb2tlPSIjYzNjM2MzIiBzdHJva2Utd2lkdGg9IjEwIiByPSIzNSIgc3Ryb2tlLWRhc2hhcnJheT0iMTY0LjkzMzYxNDMxMzQ2NDE1IDU2Ljk3Nzg3MTQzNzgyMTM4Ij4gICAgPGFuaW1hdGVUcmFuc2Zvcm0gYXR0cmlidXRlTmFtZT0idHJhbnNmb3JtIiB0eXBlPSJyb3RhdGUiIHJlcGVhdENvdW50PSJpbmRlZmluaXRlIiBkdXI9IjFzIiB2YWx1ZXM9IjAgNTAgNTA7MzYwIDUwIDUwIiBrZXlUaW1lcz0iMDsxIj48L2FuaW1hdGVUcmFuc2Zvcm0+ICA8L2NpcmNsZT48L3N2Zz4=\\\");\\n  background-size: auto calc(min(50%, 400px));\\n}\",{\"type\":\"object\",\"name\":\"ImportedStyleSheet\",\"id\":\"p1112\",\"attributes\":{\"url\":\"https://cdn.holoviz.org/panel/1.3.4/dist/css/loading.css\"}},{\"type\":\"object\",\"name\":\"ImportedStyleSheet\",\"id\":\"p1201\",\"attributes\":{\"url\":\"https://cdn.holoviz.org/panel/1.3.4/dist/css/listpanel.css\"}},{\"type\":\"object\",\"name\":\"ImportedStyleSheet\",\"id\":\"p1110\",\"attributes\":{\"url\":\"https://cdn.holoviz.org/panel/1.3.4/dist/bundled/theme/default.css\"}},{\"type\":\"object\",\"name\":\"ImportedStyleSheet\",\"id\":\"p1111\",\"attributes\":{\"url\":\"https://cdn.holoviz.org/panel/1.3.4/dist/bundled/theme/native.css\"}}],\"margin\":0,\"sizing_mode\":\"stretch_width\",\"align\":\"start\",\"children\":[{\"type\":\"object\",\"name\":\"Spacer\",\"id\":\"p1113\",\"attributes\":{\"name\":\"HSpacer01861\",\"stylesheets\":[\"\\n:host(.pn-loading.pn-arc):before, .pn-loading.pn-arc:before {\\n  background-image: url(\\\"data:image/svg+xml;base64,PHN2ZyB4bWxucz0iaHR0cDovL3d3dy53My5vcmcvMjAwMC9zdmciIHN0eWxlPSJtYXJnaW46IGF1dG87IGJhY2tncm91bmQ6IG5vbmU7IGRpc3BsYXk6IGJsb2NrOyBzaGFwZS1yZW5kZXJpbmc6IGF1dG87IiB2aWV3Qm94PSIwIDAgMTAwIDEwMCIgcHJlc2VydmVBc3BlY3RSYXRpbz0ieE1pZFlNaWQiPiAgPGNpcmNsZSBjeD0iNTAiIGN5PSI1MCIgZmlsbD0ibm9uZSIgc3Ryb2tlPSIjYzNjM2MzIiBzdHJva2Utd2lkdGg9IjEwIiByPSIzNSIgc3Ryb2tlLWRhc2hhcnJheT0iMTY0LjkzMzYxNDMxMzQ2NDE1IDU2Ljk3Nzg3MTQzNzgyMTM4Ij4gICAgPGFuaW1hdGVUcmFuc2Zvcm0gYXR0cmlidXRlTmFtZT0idHJhbnNmb3JtIiB0eXBlPSJyb3RhdGUiIHJlcGVhdENvdW50PSJpbmRlZmluaXRlIiBkdXI9IjFzIiB2YWx1ZXM9IjAgNTAgNTA7MzYwIDUwIDUwIiBrZXlUaW1lcz0iMDsxIj48L2FuaW1hdGVUcmFuc2Zvcm0+ICA8L2NpcmNsZT48L3N2Zz4=\\\");\\n  background-size: auto calc(min(50%, 400px));\\n}\",{\"id\":\"p1112\"},{\"id\":\"p1110\"},{\"id\":\"p1111\"}],\"margin\":0,\"sizing_mode\":\"stretch_width\",\"align\":\"start\"}},{\"type\":\"object\",\"name\":\"Figure\",\"id\":\"p1142\",\"attributes\":{\"width\":null,\"height\":null,\"margin\":[5,10],\"sizing_mode\":\"fixed\",\"align\":\"start\",\"x_range\":{\"type\":\"object\",\"name\":\"Range1d\",\"id\":\"p1123\",\"attributes\":{\"tags\":[[[\"Longitude\",\"Longitude\",null]],[]],\"start\":-22477289.543891035,\"end\":22686770.561665814,\"reset_start\":-22477289.543891035,\"reset_end\":22686770.561665814,\"min_interval\":5}},\"y_range\":{\"type\":\"object\",\"name\":\"Range1d\",\"id\":\"p1124\",\"attributes\":{\"tags\":[[[\"Latitude\",\"Latitude\",null]],{\"type\":\"map\",\"entries\":[[\"invert_yaxis\",false],[\"autorange\",false]]}],\"start\":-12548199.946672568,\"end\":19711842.985868037,\"reset_start\":-12548199.946672568,\"reset_end\":19711842.985868037,\"min_interval\":5}},\"x_scale\":{\"type\":\"object\",\"name\":\"LinearScale\",\"id\":\"p1152\"},\"y_scale\":{\"type\":\"object\",\"name\":\"LinearScale\",\"id\":\"p1153\"},\"title\":{\"type\":\"object\",\"name\":\"Title\",\"id\":\"p1145\",\"attributes\":{\"text_color\":\"black\",\"text_font_size\":\"12pt\"}},\"renderers\":[{\"type\":\"object\",\"name\":\"TileRenderer\",\"id\":\"p1175\",\"attributes\":{\"level\":\"underlay\",\"tile_source\":{\"type\":\"object\",\"name\":\"WMTSTileSource\",\"id\":\"p1171\",\"attributes\":{\"url\":\"https://c.tile.openstreetmap.org/{Z}/{X}/{Y}.png\",\"attribution\":\"&copy; <a href=\\\"https://www.openstreetmap.org/copyright\\\">OpenStreetMap</a> contributors\"}}}},{\"type\":\"object\",\"name\":\"GlyphRenderer\",\"id\":\"p1191\",\"attributes\":{\"name\":\"color\",\"data_source\":{\"type\":\"object\",\"name\":\"ColumnDataSource\",\"id\":\"p1180\",\"attributes\":{\"selected\":{\"type\":\"object\",\"name\":\"Selection\",\"id\":\"p1181\",\"attributes\":{\"indices\":[],\"line_indices\":[]}},\"selection_policy\":{\"type\":\"object\",\"name\":\"UnionRenderers\",\"id\":\"p1182\"},\"data\":{\"type\":\"map\",\"entries\":[[\"Lng\",{\"type\":\"ndarray\",\"array\":{\"type\":\"bytes\",\"data\":\"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\"},\"shape\":[586],\"dtype\":\"float64\",\"order\":\"little\"}],[\"Lat\",{\"type\":\"ndarray\",\"array\":{\"type\":\"bytes\",\"data\":\"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\"},\"shape\":[586],\"dtype\":\"float64\",\"order\":\"little\"}],[\"City\",[\"lorengau\",\"waitangi\",\"turpan\",\"kingston\",\"nogliki\",\"qaqortoq\",\"tura\",\"yellowknife\",\"ushuaia\",\"lihue\",\"edinburgh of the seven seas\",\"longyearbyen\",\"bilibino\",\"laojunmiao\",\"petropavlovsk-kamchatsky\",\"bethel\",\"karratha\",\"maksatikha\",\"susuman\",\"stanley\",\"ilulissat\",\"ust-nera\",\"tanjungagung\",\"olonkinbyen\",\"grytviken\",\"jamestown\",\"haiku-pauwela\",\"adamstown\",\"rouyn-noranda\",\"waat\",\"barkhan\",\"feijo\",\"port-aux-francais\",\"dudinka\",\"tsiombe\",\"badger\",\"hithadhoo\",\"puerto ayora\",\"isafjordur\",\"blackmans bay\",\"suva\",\"wailua homesteads\",\"la'ie\",\"whitehorse\",\"hasaki\",\"hadibu\",\"iskateley\",\"pisco\",\"ulladulla\",\"selfoss\",\"constantia\",\"waingapu\",\"iqaluit\",\"udachny\",\"lompoc\",\"yarmouth\",\"calama\",\"tiksi\",\"garissa\",\"eyl\",\"ciudad de chiautla de tapia\",\"rongelap\",\"puerto natales\",\"anatuya\",\"yunfu\",\"namibe\",\"amga\",\"shantobe\",\"ankang\",\"akureyri\",\"san luis de la loma\",\"kuragino\",\"albany\",\"thompson\",\"margaret river\",\"hammerfest\",\"ribeira grande\",\"college\",\"hamilton\",\"aoulef\",\"kharar\",\"taksimo\",\"fort st. john\",\"smithers\",\"argostolion\",\"invercargill\",\"bratsk\",\"pangody\",\"malango\",\"uturoa\",\"klyuchi\",\"labrador city\",\"minas de marcona\",\"port elizabeth\",\"kodiak\",\"plettenberg bay\",\"alachua\",\"pak phanang\",\"chardara\",\"port mathurin\",\"bikenibeu village\",\"avarua\",\"tofol\",\"vilyuchinsk\",\"papatowai\",\"papao\",\"klaksvik\",\"selkirk\",\"yerofey pavlovich\",\"heihe\",\"box elder\",\"lucapa\",\"pingxiang\",\"codrington\",\"tchintabaraden\",\"georgetown\",\"namtsy\",\"constitucion\",\"naples\",\"mudgee\",\"crane\",\"newman\",\"carnarvon\",\"er regueb\",\"weno\",\"itoman\",\"russellville\",\"malakal\",\"argo\",\"alofi\",\"guiuan\",\"ancud\",\"hermanus\",\"hobyo\",\"valparaiso\",\"palikir - national government center\",\"grantsville\",\"nadi\",\"puerto aysen\",\"gouyave\",\"kizner\",\"mount isa\",\"buka\",\"kalamata\",\"st. john's\",\"hawaiian paradise park\",\"fortuna\",\"mokhsogollokh\",\"puerto armuelles\",\"yarkovo\",\"puerto carreno\",\"paita\",\"utrik\",\"nyurba\",\"nieuw amsterdam\",\"atherton\",\"yuzhno-kurilsk\",\"yei\",\"inhambane\",\"sola\",\"durham\",\"lashio\",\"zhezqazghan\",\"cabugao\",\"nong phai\",\"kimbe\",\"sestri levante\",\"broome\",\"santa ana\",\"puli\",\"vuosaari\",\"tazovsky\",\"shingu\",\"beni\",\"atafu village\",\"imbituba\",\"tara\",\"kashgar\",\"talnakh\",\"gizo\",\"balabac\",\"pico truncado\",\"isanlu-itedoijowa\",\"sitka\",\"remire-montjoly\",\"usogorsk\",\"chonchi\",\"ocean shores\",\"bredasdorp\",\"itoigawa\",\"juegang\",\"lalganj\",\"ad dilam\",\"palapye\",\"loikaw\",\"okhotsk\",\"erenhot\",\"vorgashor\",\"angaur state\",\"brisas de zicatela\",\"east london\",\"taroa\",\"celestun\",\"gordonvale\",\"inarajan village\",\"jinja\",\"tromso\",\"ataq\",\"mangrol\",\"orhei\",\"port alfred\",\"atlantic\",\"guerrero negro\",\"kairana\",\"qarqaraly\",\"port blair\",\"aykhal\",\"dong ha\",\"koksan\",\"ta`u\",\"silver city\",\"gobabis\",\"panguipulli\",\"tirumala\",\"buala\",\"happy valley-goose bay\",\"manismata\",\"melfi\",\"chiredzi\",\"fuling\",\"conde\",\"lethem\",\"honiara\",\"kavaratti\",\"moose jaw\",\"moyynkum\",\"saudarkrokur\",\"mount gambier\",\"tindouf\",\"afaahiti\",\"sho'rchi\",\"cockburn town\",\"san angelo\",\"ampere\",\"la foa\",\"urzhar\",\"nova sintra\",\"changli\",\"freetown\",\"borgo\",\"marsabit\",\"gornopravdinsk\",\"flin flon\",\"sulphur\",\"katsuren-haebaru\",\"kudahuvadhoo\",\"shimokizukuri\",\"colonia\",\"mkushi\",\"rio grande\",\"vielha\",\"kettering\",\"lewisville\",\"sinop\",\"gaigeturi\",\"hilo\",\"kristiansund\",\"acapulco de juarez\",\"nemuro\",\"tshikapa\",\"khandyga\",\"acarau\",\"kodinsk\",\"fereydunshahr\",\"ust'-kulom\",\"kourou\",\"zhanaozen\",\"kotka\",\"morondava\",\"gaoyou\",\"colonia menno\",\"belo sur tsiribihina\",\"la plata\",\"san patricio\",\"laguna\",\"korla\",\"solwezi\",\"nolinsk\",\"weatherford\",\"parras de la fuente\",\"enewetak\",\"vila franca do campo\",\"qamdo\",\"conduaga\",\"at taraf\",\"tot'ma\",\"kargasok\",\"nuuk\",\"camaguey\",\"malax\",\"cianorte\",\"aasiaat\",\"kaa-khem\",\"kailua-kona\",\"vadso\",\"saldanha\",\"quelimane\",\"manaure\",\"san andres\",\"weligama\",\"cabedelo\",\"severo-yeniseyskiy\",\"tolanaro\",\"kalmunai\",\"chipiona\",\"amungan\",\"soio\",\"coahuayana de hidalgo\",\"polyarnyy\",\"nkhotakota\",\"kindu\",\"zayed city\",\"west island\",\"kralendijk\",\"ratlam\",\"al fuwayliq\",\"vernon\",\"saint-louis\",\"kone\",\"fada n'gourma\",\"kawalu\",\"la ronge\",\"caleta de carquin\",\"shevchenko\",\"zakynthos\",\"quellon\",\"luderitz\",\"kerema\",\"umba\",\"dunedin\",\"maych'ew\",\"gebeit\",\"kiruna\",\"hami\",\"olinda\",\"majene\",\"bengkulu\",\"suntar\",\"xilin hot\",\"amursk\",\"port lincoln\",\"sandnessjoen\",\"fada\",\"prince rupert\",\"labuan\",\"trabzon\",\"malpe\",\"kavieng\",\"balpyk bi\",\"koundara\",\"la passe\",\"joaima\",\"veraval\",\"pangai\",\"pallasovka\",\"sabana de torres\",\"butterworth\",\"macapa\",\"cole harbour\",\"prado\",\"kaduna\",\"port saint john's\",\"oranjemund\",\"vila velha\",\"den burg\",\"hornell\",\"peace river\",\"mersing\",\"anadyr\",\"gulf shores\",\"shipunovo\",\"mili\",\"island harbour\",\"coquimbo\",\"jezowe\",\"matoury\",\"tangier\",\"nyrob\",\"kapuskasing\",\"tobelo\",\"moapa valley\",\"mashhad\",\"woodstock\",\"shangrao\",\"nar'yan-mar\",\"punaauia\",\"kill devil hills\",\"kurumkan\",\"tralee\",\"anar darah\",\"broken hill\",\"paea\",\"saipan\",\"fort bragg\",\"lamu\",\"praia da vitoria\",\"sisimiut\",\"bonthe\",\"pacocha\",\"mejit\",\"lepsy\",\"singkil\",\"rawson\",\"port moresby\",\"cabo san lucas\",\"touros\",\"yamba\",\"menongue\",\"awjilah\",\"ouesso\",\"mangai\",\"daru\",\"punta arenas\",\"xam nua\",\"springbok\",\"al bawiti\",\"mitsamiouli\",\"camarinas\",\"aldama\",\"quang ngai\",\"meadow lake\",\"belur\",\"callao\",\"pangkalanbuun\",\"cozumel\",\"tlaltenango de sanchez roman\",\"carriere\",\"shimoda\",\"kununurra\",\"basco\",\"east ballina\",\"higuera de zaragoza\",\"grand gaube\",\"paka\",\"pavilosta\",\"paramonga\",\"nannilam\",\"greenland\",\"nova vicosa\",\"dryden\",\"helsa\",\"corner brook\",\"isaka\",\"tidjikja\",\"campbell river\",\"sirte\",\"salekhard\",\"guneysu\",\"necochea\",\"howrah\",\"taulaga\",\"puerto gaitan\",\"aswan\",\"sao joao da barra\",\"sinabang\",\"morehead city\",\"barra de santo antonio\",\"pathein\",\"drayton valley\",\"castillos\",\"charleston\",\"alice springs\",\"mil'kovo\",\"bandarbeyla\",\"horta\",\"pandaria\",\"taoudenni\",\"obock\",\"juan de ayolas\",\"richmond\",\"novyy urgal\",\"ikwiriri\",\"el granada\",\"castel di sangro\",\"port pirie\",\"tarawa\",\"cannonvale\",\"ghadamis\",\"tanah merah\",\"sheksna\",\"mao\",\"magadan\",\"frontera\",\"hirara\",\"ciudad lazaro cardenas\",\"libreville\",\"iwanai\",\"lebu\",\"sabha\",\"adis zemen\",\"kapa'a\",\"sabaneta\",\"praya\",\"olavarria\",\"lyozna\",\"napili-honokowai\",\"aioun\",\"arraial do cabo\",\"alappuzha\",\"eduardo castex\",\"ushtobe\",\"qianjiang\",\"alma\",\"barcelos\",\"sao felix do xingu\",\"kirakira\",\"slyudyanka\",\"rockland\",\"anna regina\",\"taltal\",\"chibougamau\",\"kurtamysh\",\"hovd\",\"grand falls-windsor\",\"langepas\",\"aiquile\",\"conception bay south\",\"debark'\",\"tual\",\"illizi\",\"siracusa\",\"villa gesell\",\"kita\",\"choyr\",\"city of isabela\",\"bamnet narong\",\"rolla\",\"keelung\",\"malya\",\"madang\",\"kosh-agach\",\"lusambo\",\"cill airne\",\"mhamid\",\"mount pearl\",\"corumba\",\"tsetserleg\",\"flying fish cove\",\"porto novo\",\"hassi messaoud\",\"meraux\",\"midvagur\",\"elko\",\"cifteler\",\"okha\",\"margate\",\"dera bugti\",\"comodoro rivadavia\",\"egilsstadir\",\"pruzhany\",\"karabash\",\"galliano\",\"bijie\",\"puerto baquerizo moreno\",\"labytnangi\",\"baruun-urt\",\"curuzu cuatia\",\"olney\",\"bodo\",\"madalena\",\"salida\",\"chinde\",\"ji'an\",\"zima\",\"robinson\",\"vila do maio\",\"paracuru\",\"denkanikota\",\"gaspe\",\"kalevala\",\"churapcha\",\"altamira\",\"lebedyn\",\"bel ombre\",\"kalia\",\"san rafael\"]],[\"Humidity\",{\"type\":\"ndarray\",\"array\":{\"type\":\"bytes\",\"data\":\"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\"},\"shape\":[586],\"dtype\":\"int32\",\"order\":\"little\"}],[\"color\",[\"lorengau\",\"waitangi\",\"turpan\",\"kingston\",\"nogliki\",\"qaqortoq\",\"tura\",\"yellowknife\",\"ushuaia\",\"lihue\",\"edinburgh of the seven seas\",\"longyearbyen\",\"bilibino\",\"laojunmiao\",\"petropavlovsk-kamchatsky\",\"bethel\",\"karratha\",\"maksatikha\",\"susuman\",\"stanley\",\"ilulissat\",\"ust-nera\",\"tanjungagung\",\"olonkinbyen\",\"grytviken\",\"jamestown\",\"haiku-pauwela\",\"adamstown\",\"rouyn-noranda\",\"waat\",\"barkhan\",\"feijo\",\"port-aux-francais\",\"dudinka\",\"tsiombe\",\"badger\",\"hithadhoo\",\"puerto ayora\",\"isafjordur\",\"blackmans bay\",\"suva\",\"wailua homesteads\",\"la'ie\",\"whitehorse\",\"hasaki\",\"hadibu\",\"iskateley\",\"pisco\",\"ulladulla\",\"selfoss\",\"constantia\",\"waingapu\",\"iqaluit\",\"udachny\",\"lompoc\",\"yarmouth\",\"calama\",\"tiksi\",\"garissa\",\"eyl\",\"ciudad de chiautla de tapia\",\"rongelap\",\"puerto natales\",\"anatuya\",\"yunfu\",\"namibe\",\"amga\",\"shantobe\",\"ankang\",\"akureyri\",\"san luis de la loma\",\"kuragino\",\"albany\",\"thompson\",\"margaret river\",\"hammerfest\",\"ribeira grande\",\"college\",\"hamilton\",\"aoulef\",\"kharar\",\"taksimo\",\"fort st. john\",\"smithers\",\"argostolion\",\"invercargill\",\"bratsk\",\"pangody\",\"malango\",\"uturoa\",\"klyuchi\",\"labrador city\",\"minas de marcona\",\"port elizabeth\",\"kodiak\",\"plettenberg bay\",\"alachua\",\"pak phanang\",\"chardara\",\"port mathurin\",\"bikenibeu village\",\"avarua\",\"tofol\",\"vilyuchinsk\",\"papatowai\",\"papao\",\"klaksvik\",\"selkirk\",\"yerofey pavlovich\",\"heihe\",\"box elder\",\"lucapa\",\"pingxiang\",\"codrington\",\"tchintabaraden\",\"georgetown\",\"namtsy\",\"constitucion\",\"naples\",\"mudgee\",\"crane\",\"newman\",\"carnarvon\",\"er regueb\",\"weno\",\"itoman\",\"russellville\",\"malakal\",\"argo\",\"alofi\",\"guiuan\",\"ancud\",\"hermanus\",\"hobyo\",\"valparaiso\",\"palikir - national government center\",\"grantsville\",\"nadi\",\"puerto aysen\",\"gouyave\",\"kizner\",\"mount isa\",\"buka\",\"kalamata\",\"st. john's\",\"hawaiian paradise park\",\"fortuna\",\"mokhsogollokh\",\"puerto armuelles\",\"yarkovo\",\"puerto carreno\",\"paita\",\"utrik\",\"nyurba\",\"nieuw amsterdam\",\"atherton\",\"yuzhno-kurilsk\",\"yei\",\"inhambane\",\"sola\",\"durham\",\"lashio\",\"zhezqazghan\",\"cabugao\",\"nong phai\",\"kimbe\",\"sestri levante\",\"broome\",\"santa ana\",\"puli\",\"vuosaari\",\"tazovsky\",\"shingu\",\"beni\",\"atafu village\",\"imbituba\",\"tara\",\"kashgar\",\"talnakh\",\"gizo\",\"balabac\",\"pico truncado\",\"isanlu-itedoijowa\",\"sitka\",\"remire-montjoly\",\"usogorsk\",\"chonchi\",\"ocean shores\",\"bredasdorp\",\"itoigawa\",\"juegang\",\"lalganj\",\"ad dilam\",\"palapye\",\"loikaw\",\"okhotsk\",\"erenhot\",\"vorgashor\",\"angaur state\",\"brisas de zicatela\",\"east london\",\"taroa\",\"celestun\",\"gordonvale\",\"inarajan village\",\"jinja\",\"tromso\",\"ataq\",\"mangrol\",\"orhei\",\"port alfred\",\"atlantic\",\"guerrero negro\",\"kairana\",\"qarqaraly\",\"port blair\",\"aykhal\",\"dong ha\",\"koksan\",\"ta`u\",\"silver city\",\"gobabis\",\"panguipulli\",\"tirumala\",\"buala\",\"happy valley-goose bay\",\"manismata\",\"melfi\",\"chiredzi\",\"fuling\",\"conde\",\"lethem\",\"honiara\",\"kavaratti\",\"moose jaw\",\"moyynkum\",\"saudarkrokur\",\"mount gambier\",\"tindouf\",\"afaahiti\",\"sho'rchi\",\"cockburn town\",\"san angelo\",\"ampere\",\"la foa\",\"urzhar\",\"nova sintra\",\"changli\",\"freetown\",\"borgo\",\"marsabit\",\"gornopravdinsk\",\"flin flon\",\"sulphur\",\"katsuren-haebaru\",\"kudahuvadhoo\",\"shimokizukuri\",\"colonia\",\"mkushi\",\"rio grande\",\"vielha\",\"kettering\",\"lewisville\",\"sinop\",\"gaigeturi\",\"hilo\",\"kristiansund\",\"acapulco de juarez\",\"nemuro\",\"tshikapa\",\"khandyga\",\"acarau\",\"kodinsk\",\"fereydunshahr\",\"ust'-kulom\",\"kourou\",\"zhanaozen\",\"kotka\",\"morondava\",\"gaoyou\",\"colonia menno\",\"belo sur tsiribihina\",\"la plata\",\"san patricio\",\"laguna\",\"korla\",\"solwezi\",\"nolinsk\",\"weatherford\",\"parras de la fuente\",\"enewetak\",\"vila franca do campo\",\"qamdo\",\"conduaga\",\"at taraf\",\"tot'ma\",\"kargasok\",\"nuuk\",\"camaguey\",\"malax\",\"cianorte\",\"aasiaat\",\"kaa-khem\",\"kailua-kona\",\"vadso\",\"saldanha\",\"quelimane\",\"manaure\",\"san andres\",\"weligama\",\"cabedelo\",\"severo-yeniseyskiy\",\"tolanaro\",\"kalmunai\",\"chipiona\",\"amungan\",\"soio\",\"coahuayana de hidalgo\",\"polyarnyy\",\"nkhotakota\",\"kindu\",\"zayed city\",\"west island\",\"kralendijk\",\"ratlam\",\"al fuwayliq\",\"vernon\",\"saint-louis\",\"kone\",\"fada n'gourma\",\"kawalu\",\"la ronge\",\"caleta de carquin\",\"shevchenko\",\"zakynthos\",\"quellon\",\"luderitz\",\"kerema\",\"umba\",\"dunedin\",\"maych'ew\",\"gebeit\",\"kiruna\",\"hami\",\"olinda\",\"majene\",\"bengkulu\",\"suntar\",\"xilin hot\",\"amursk\",\"port lincoln\",\"sandnessjoen\",\"fada\",\"prince rupert\",\"labuan\",\"trabzon\",\"malpe\",\"kavieng\",\"balpyk bi\",\"koundara\",\"la passe\",\"joaima\",\"veraval\",\"pangai\",\"pallasovka\",\"sabana de torres\",\"butterworth\",\"macapa\",\"cole harbour\",\"prado\",\"kaduna\",\"port saint john's\",\"oranjemund\",\"vila velha\",\"den burg\",\"hornell\",\"peace river\",\"mersing\",\"anadyr\",\"gulf shores\",\"shipunovo\",\"mili\",\"island harbour\",\"coquimbo\",\"jezowe\",\"matoury\",\"tangier\",\"nyrob\",\"kapuskasing\",\"tobelo\",\"moapa valley\",\"mashhad\",\"woodstock\",\"shangrao\",\"nar'yan-mar\",\"punaauia\",\"kill devil hills\",\"kurumkan\",\"tralee\",\"anar darah\",\"broken hill\",\"paea\",\"saipan\",\"fort bragg\",\"lamu\",\"praia da vitoria\",\"sisimiut\",\"bonthe\",\"pacocha\",\"mejit\",\"lepsy\",\"singkil\",\"rawson\",\"port moresby\",\"cabo san lucas\",\"touros\",\"yamba\",\"menongue\",\"awjilah\",\"ouesso\",\"mangai\",\"daru\",\"punta arenas\",\"xam nua\",\"springbok\",\"al bawiti\",\"mitsamiouli\",\"camarinas\",\"aldama\",\"quang ngai\",\"meadow lake\",\"belur\",\"callao\",\"pangkalanbuun\",\"cozumel\",\"tlaltenango de sanchez roman\",\"carriere\",\"shimoda\",\"kununurra\",\"basco\",\"east ballina\",\"higuera de zaragoza\",\"grand gaube\",\"paka\",\"pavilosta\",\"paramonga\",\"nannilam\",\"greenland\",\"nova vicosa\",\"dryden\",\"helsa\",\"corner brook\",\"isaka\",\"tidjikja\",\"campbell river\",\"sirte\",\"salekhard\",\"guneysu\",\"necochea\",\"howrah\",\"taulaga\",\"puerto gaitan\",\"aswan\",\"sao joao da barra\",\"sinabang\",\"morehead city\",\"barra de santo antonio\",\"pathein\",\"drayton valley\",\"castillos\",\"charleston\",\"alice springs\",\"mil'kovo\",\"bandarbeyla\",\"horta\",\"pandaria\",\"taoudenni\",\"obock\",\"juan de ayolas\",\"richmond\",\"novyy urgal\",\"ikwiriri\",\"el granada\",\"castel di sangro\",\"port pirie\",\"tarawa\",\"cannonvale\",\"ghadamis\",\"tanah merah\",\"sheksna\",\"mao\",\"magadan\",\"frontera\",\"hirara\",\"ciudad lazaro cardenas\",\"libreville\",\"iwanai\",\"lebu\",\"sabha\",\"adis zemen\",\"kapa'a\",\"sabaneta\",\"praya\",\"olavarria\",\"lyozna\",\"napili-honokowai\",\"aioun\",\"arraial do cabo\",\"alappuzha\",\"eduardo castex\",\"ushtobe\",\"qianjiang\",\"alma\",\"barcelos\",\"sao felix do xingu\",\"kirakira\",\"slyudyanka\",\"rockland\",\"anna regina\",\"taltal\",\"chibougamau\",\"kurtamysh\",\"hovd\",\"grand falls-windsor\",\"langepas\",\"aiquile\",\"conception bay south\",\"debark'\",\"tual\",\"illizi\",\"siracusa\",\"villa gesell\",\"kita\",\"choyr\",\"city of isabela\",\"bamnet narong\",\"rolla\",\"keelung\",\"malya\",\"madang\",\"kosh-agach\",\"lusambo\",\"cill airne\",\"mhamid\",\"mount pearl\",\"corumba\",\"tsetserleg\",\"flying fish cove\",\"porto novo\",\"hassi messaoud\",\"meraux\",\"midvagur\",\"elko\",\"cifteler\",\"okha\",\"margate\",\"dera bugti\",\"comodoro rivadavia\",\"egilsstadir\",\"pruzhany\",\"karabash\",\"galliano\",\"bijie\",\"puerto baquerizo moreno\",\"labytnangi\",\"baruun-urt\",\"curuzu cuatia\",\"olney\",\"bodo\",\"madalena\",\"salida\",\"chinde\",\"ji'an\",\"zima\",\"robinson\",\"vila do maio\",\"paracuru\",\"denkanikota\",\"gaspe\",\"kalevala\",\"churapcha\",\"altamira\",\"lebedyn\",\"bel ombre\",\"kalia\",\"san rafael\"]],[\"size\",{\"type\":\"ndarray\",\"array\":{\"type\":\"bytes\",\"data\":\"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\"},\"shape\":[586],\"dtype\":\"float64\",\"order\":\"little\"}]]}}},\"view\":{\"type\":\"object\",\"name\":\"CDSView\",\"id\":\"p1192\",\"attributes\":{\"filter\":{\"type\":\"object\",\"name\":\"AllIndices\",\"id\":\"p1193\"}}},\"glyph\":{\"type\":\"object\",\"name\":\"Scatter\",\"id\":\"p1186\",\"attributes\":{\"tags\":[\"apply_ranges\"],\"x\":{\"type\":\"field\",\"field\":\"Lng\"},\"y\":{\"type\":\"field\",\"field\":\"Lat\"},\"size\":{\"type\":\"field\",\"field\":\"size\"},\"line_color\":{\"type\":\"field\",\"field\":\"color\",\"transform\":{\"type\":\"object\",\"name\":\"CategoricalColorMapper\",\"id\":\"p1179\",\"attributes\":{\"palette\":[\"#1f77b3\",\"#ff7e0e\",\"#2ba02b\",\"#d62628\",\"#9367bc\",\"#8c564b\",\"#e277c1\",\"#7e7e7e\",\"#bcbc21\",\"#16bdcf\",\"#3a0182\",\"#004201\",\"#0fffa8\",\"#5d003f\",\"#bcbcff\",\"#d8afa1\",\"#b80080\",\"#004d52\",\"#6b6400\",\"#7c0100\",\"#6026ff\",\"#ffff9a\",\"#564964\",\"#8cb893\",\"#93fbff\",\"#018267\",\"#90ff00\",\"#8200a0\",\"#ac8944\",\"#5b3400\",\"#ffbff2\",\"#ff6e75\",\"#798cff\",\"#dd00ff\",\"#505646\",\"#004489\",\"#ffbf60\",\"#ff018c\",\"#bdc8cf\",\"#af97b5\",\"#b65600\",\"#017000\",\"#cd87ff\",\"#1cd646\",\"#bfebc3\",\"#7997b5\",\"#a56089\",\"#6e8956\",\"#bc7c75\",\"#8a2844\",\"#00acff\",\"#8ed4ff\",\"#4b6d77\",\"#00d4b1\",\"#9300f2\",\"#8a9500\",\"#5d5b9e\",\"#fddfba\",\"#00939e\",\"#ffdb00\",\"#00aa79\",\"#520067\",\"#000091\",\"#0a5d3d\",\"#a5e275\",\"#623b41\",\"#c6c689\",\"#ff9eb5\",\"#cd4f6b\",\"#ff07d6\",\"#8a3a05\",\"#7e3d70\",\"#ff4901\",\"#602ba5\",\"#1c00ff\",\"#e6dfff\",\"#aa3baf\",\"#d89c00\",\"#a3a39e\",\"#3f69ff\",\"#46490c\",\"#7b6985\",\"#6b978c\",\"#ff9a75\",\"#835bff\",\"#7c6b46\",\"#80b654\",\"#bc0049\",\"#fd93ff\",\"#5d0018\",\"#89d1d1\",\"#9c8cd3\",\"#da6d42\",\"#8a5700\",\"#3b5069\",\"#4b6b3b\",\"#edcfd8\",\"#cfedff\",\"#aa1500\",\"#dfff4f\",\"#ff2a56\",\"#d1499e\",\"#707cb8\",\"#598000\",\"#00e4fd\",\"#774b95\",\"#67d48c\",\"#3d3a72\",\"#ac413f\",\"#d6a166\",\"#c169cd\",\"#69595d\",\"#87aced\",\"#a0a569\",\"#d1aae6\",\"#870062\",\"#00fddb\",\"#672818\",\"#b342ff\",\"#0e59c4\",\"#168742\",\"#90d300\",\"#cd7900\",\"#f959ff\",\"#5b7466\",\"#8eaeb3\",\"#9c7c8c\",\"#4600c6\",\"#6b4d2d\",\"#a56d46\",\"#9e8972\",\"#a8afca\",\"#cd8ca7\",\"#00fd64\",\"#917900\",\"#ff62a1\",\"#f4ffd8\",\"#018cf0\",\"#13aca0\",\"#5b2d59\",\"#89859e\",\"#cfccba\",\"#d4afc4\",\"#dbdd6d\",\"#cffff4\",\"#006485\",\"#006962\",\"#a84167\",\"#2d97c4\",\"#a874ff\",\"#26ba5d\",\"#57b600\",\"#caffa7\",\"#a379aa\",\"#ffbc93\",\"#89e2c1\",\"#0fc8ff\",\"#d400c4\",\"#626d89\",\"#69858e\",\"#4b4d52\",\"#aa6067\",\"#79b5d4\",\"#2b5916\",\"#9a0024\",\"#bdd1f2\",\"#896e67\",\"#69a56b\",\"#855467\",\"#aecdba\",\"#87997e\",\"#cadb00\",\"#9a0390\",\"#ebbc1a\",\"#eb9cd1\",\"#70006e\",\"#b1a131\",\"#ca6b93\",\"#4146a3\",\"#e48c89\",\"#d44400\",\"#c68aca\",\"#b69597\",\"#d41f75\",\"#724bcc\",\"#674d00\",\"#672138\",\"#38564f\",\"#6ebaaa\",\"#853a31\",\"#a5d397\",\"#b8af8e\",\"#d8e4df\",\"#aa00df\",\"#cac1db\",\"#ffdf8c\",\"#e2524d\",\"#66696e\",\"#ff001c\",\"#522d72\",\"#4d906b\",\"#a86d11\",\"#ff9e26\",\"#5ea3af\",\"#c88556\",\"#915997\",\"#a3a1ff\",\"#fdbaba\",\"#242a87\",\"#dbe6a8\",\"#97f2a7\",\"#6793d6\",\"#ba5b3f\",\"#3a5d91\",\"#364f2f\",\"#267c95\",\"#89959a\",\"#cfb356\",\"#004664\",\"#5e5d2f\",\"#8e8e41\",\"#ac3f13\",\"#69953b\",\"#a13d85\",\"#bfb6ba\",\"#acc667\",\"#6469cf\",\"#91af00\",\"#2be2da\",\"#016e36\",\"#ff7952\",\"#42807e\",\"#4fe800\",\"#995428\",\"#5d0a00\",\"#a30057\",\"#0c8700\",\"#5982a7\",\"#ffebfb\",\"#4b6901\",\"#8775d4\",\"#e6c6ff\",\"#a5ffda\",\"#d86e77\",\"#df014b\",\"#69675b\",\"#776ba1\",\"#7e8067\",\"#594685\",\"#0000ca\",\"#7c002a\",\"#97ff72\",\"#b5e2e1\",\"#db52c8\",\"#777734\",\"#57bd8e\",\"#1f77b3\",\"#ff7e0e\",\"#2ba02b\",\"#d62628\",\"#9367bc\",\"#8c564b\",\"#e277c1\",\"#7e7e7e\",\"#bcbc21\",\"#16bdcf\",\"#3a0182\",\"#004201\",\"#0fffa8\",\"#5d003f\",\"#bcbcff\",\"#d8afa1\",\"#b80080\",\"#004d52\",\"#6b6400\",\"#7c0100\",\"#6026ff\",\"#ffff9a\",\"#564964\",\"#8cb893\",\"#93fbff\",\"#018267\",\"#90ff00\",\"#8200a0\",\"#ac8944\",\"#5b3400\",\"#ffbff2\",\"#ff6e75\",\"#798cff\",\"#dd00ff\",\"#505646\",\"#004489\",\"#ffbf60\",\"#ff018c\",\"#bdc8cf\",\"#af97b5\",\"#b65600\",\"#017000\",\"#cd87ff\",\"#1cd646\",\"#bfebc3\",\"#7997b5\",\"#a56089\",\"#6e8956\",\"#bc7c75\",\"#8a2844\",\"#00acff\",\"#8ed4ff\",\"#4b6d77\",\"#00d4b1\",\"#9300f2\",\"#8a9500\",\"#5d5b9e\",\"#fddfba\",\"#00939e\",\"#ffdb00\",\"#00aa79\",\"#520067\",\"#000091\",\"#0a5d3d\",\"#a5e275\",\"#623b41\",\"#c6c689\",\"#ff9eb5\",\"#cd4f6b\",\"#ff07d6\",\"#8a3a05\",\"#7e3d70\",\"#ff4901\",\"#602ba5\",\"#1c00ff\",\"#e6dfff\",\"#aa3baf\",\"#d89c00\",\"#a3a39e\",\"#3f69ff\",\"#46490c\",\"#7b6985\",\"#6b978c\",\"#ff9a75\",\"#835bff\",\"#7c6b46\",\"#80b654\",\"#bc0049\",\"#fd93ff\",\"#5d0018\",\"#89d1d1\",\"#9c8cd3\",\"#da6d42\",\"#8a5700\",\"#3b5069\",\"#4b6b3b\",\"#edcfd8\",\"#cfedff\",\"#aa1500\",\"#dfff4f\",\"#ff2a56\",\"#d1499e\",\"#707cb8\",\"#598000\",\"#00e4fd\",\"#774b95\",\"#67d48c\",\"#3d3a72\",\"#ac413f\",\"#d6a166\",\"#c169cd\",\"#69595d\",\"#87aced\",\"#a0a569\",\"#d1aae6\",\"#870062\",\"#00fddb\",\"#672818\",\"#b342ff\",\"#0e59c4\",\"#168742\",\"#90d300\",\"#cd7900\",\"#f959ff\",\"#5b7466\",\"#8eaeb3\",\"#9c7c8c\",\"#4600c6\",\"#6b4d2d\",\"#a56d46\",\"#9e8972\",\"#a8afca\",\"#cd8ca7\",\"#00fd64\",\"#917900\",\"#ff62a1\",\"#f4ffd8\",\"#018cf0\",\"#13aca0\",\"#5b2d59\",\"#89859e\",\"#cfccba\",\"#d4afc4\",\"#dbdd6d\",\"#cffff4\",\"#006485\",\"#006962\",\"#a84167\",\"#2d97c4\",\"#a874ff\",\"#26ba5d\",\"#57b600\",\"#caffa7\",\"#a379aa\",\"#ffbc93\",\"#89e2c1\",\"#0fc8ff\",\"#d400c4\",\"#626d89\",\"#69858e\",\"#4b4d52\",\"#aa6067\",\"#79b5d4\",\"#2b5916\",\"#9a0024\",\"#bdd1f2\",\"#896e67\",\"#69a56b\",\"#855467\",\"#aecdba\",\"#87997e\",\"#cadb00\",\"#9a0390\",\"#ebbc1a\",\"#eb9cd1\",\"#70006e\",\"#b1a131\",\"#ca6b93\",\"#4146a3\",\"#e48c89\",\"#d44400\",\"#c68aca\",\"#b69597\",\"#d41f75\",\"#724bcc\",\"#674d00\",\"#672138\",\"#38564f\",\"#6ebaaa\",\"#853a31\",\"#a5d397\",\"#b8af8e\",\"#d8e4df\",\"#aa00df\",\"#cac1db\",\"#ffdf8c\",\"#e2524d\",\"#66696e\",\"#ff001c\",\"#522d72\",\"#4d906b\",\"#a86d11\",\"#ff9e26\",\"#5ea3af\",\"#c88556\",\"#915997\",\"#a3a1ff\",\"#fdbaba\",\"#242a87\",\"#dbe6a8\",\"#97f2a7\",\"#6793d6\",\"#ba5b3f\",\"#3a5d91\",\"#364f2f\",\"#267c95\",\"#89959a\",\"#cfb356\",\"#004664\",\"#5e5d2f\",\"#8e8e41\",\"#ac3f13\",\"#69953b\",\"#a13d85\",\"#bfb6ba\",\"#acc667\",\"#6469cf\",\"#91af00\",\"#2be2da\",\"#016e36\",\"#ff7952\",\"#42807e\",\"#4fe800\",\"#995428\",\"#5d0a00\",\"#a30057\",\"#0c8700\",\"#5982a7\",\"#ffebfb\",\"#4b6901\",\"#8775d4\",\"#e6c6ff\",\"#a5ffda\",\"#d86e77\",\"#df014b\",\"#69675b\",\"#776ba1\",\"#7e8067\",\"#594685\",\"#0000ca\",\"#7c002a\",\"#97ff72\",\"#b5e2e1\",\"#db52c8\",\"#777734\",\"#57bd8e\",\"#1f77b3\",\"#ff7e0e\",\"#2ba02b\",\"#d62628\",\"#9367bc\",\"#8c564b\",\"#e277c1\",\"#7e7e7e\",\"#bcbc21\",\"#16bdcf\",\"#3a0182\",\"#004201\",\"#0fffa8\",\"#5d003f\",\"#bcbcff\",\"#d8afa1\",\"#b80080\",\"#004d52\",\"#6b6400\",\"#7c0100\",\"#6026ff\",\"#ffff9a\",\"#564964\",\"#8cb893\",\"#93fbff\",\"#018267\",\"#90ff00\",\"#8200a0\",\"#ac8944\",\"#5b3400\",\"#ffbff2\",\"#ff6e75\",\"#798cff\",\"#dd00ff\",\"#505646\",\"#004489\",\"#ffbf60\",\"#ff018c\",\"#bdc8cf\",\"#af97b5\",\"#b65600\",\"#017000\",\"#cd87ff\",\"#1cd646\",\"#bfebc3\",\"#7997b5\",\"#a56089\",\"#6e8956\",\"#bc7c75\",\"#8a2844\",\"#00acff\",\"#8ed4ff\",\"#4b6d77\",\"#00d4b1\",\"#9300f2\",\"#8a9500\",\"#5d5b9e\",\"#fddfba\",\"#00939e\",\"#ffdb00\",\"#00aa79\",\"#520067\",\"#000091\",\"#0a5d3d\",\"#a5e275\",\"#623b41\",\"#c6c689\",\"#ff9eb5\",\"#cd4f6b\",\"#ff07d6\",\"#8a3a05\",\"#7e3d70\",\"#ff4901\",\"#602ba5\"],\"factors\":[\"lorengau\",\"waitangi\",\"turpan\",\"kingston\",\"nogliki\",\"qaqortoq\",\"tura\",\"yellowknife\",\"ushuaia\",\"lihue\",\"edinburgh of the seven seas\",\"longyearbyen\",\"bilibino\",\"laojunmiao\",\"petropavlovsk-kamchatsky\",\"bethel\",\"karratha\",\"maksatikha\",\"susuman\",\"stanley\",\"ilulissat\",\"ust-nera\",\"tanjungagung\",\"olonkinbyen\",\"grytviken\",\"jamestown\",\"haiku-pauwela\",\"adamstown\",\"rouyn-noranda\",\"waat\",\"barkhan\",\"feijo\",\"port-aux-francais\",\"dudinka\",\"tsiombe\",\"badger\",\"hithadhoo\",\"puerto ayora\",\"isafjordur\",\"blackmans bay\",\"suva\",\"wailua homesteads\",\"la'ie\",\"whitehorse\",\"hasaki\",\"hadibu\",\"iskateley\",\"pisco\",\"ulladulla\",\"selfoss\",\"constantia\",\"waingapu\",\"iqaluit\",\"udachny\",\"lompoc\",\"yarmouth\",\"calama\",\"tiksi\",\"garissa\",\"eyl\",\"ciudad de chiautla de tapia\",\"rongelap\",\"puerto natales\",\"anatuya\",\"yunfu\",\"namibe\",\"amga\",\"shantobe\",\"ankang\",\"akureyri\",\"san luis de la loma\",\"kuragino\",\"albany\",\"thompson\",\"margaret river\",\"hammerfest\",\"ribeira grande\",\"college\",\"hamilton\",\"aoulef\",\"kharar\",\"taksimo\",\"fort st. john\",\"smithers\",\"argostolion\",\"invercargill\",\"bratsk\",\"pangody\",\"malango\",\"uturoa\",\"klyuchi\",\"labrador city\",\"minas de marcona\",\"port elizabeth\",\"kodiak\",\"plettenberg bay\",\"alachua\",\"pak phanang\",\"chardara\",\"port mathurin\",\"bikenibeu village\",\"avarua\",\"tofol\",\"vilyuchinsk\",\"papatowai\",\"papao\",\"klaksvik\",\"selkirk\",\"yerofey pavlovich\",\"heihe\",\"box elder\",\"lucapa\",\"pingxiang\",\"codrington\",\"tchintabaraden\",\"georgetown\",\"namtsy\",\"constitucion\",\"naples\",\"mudgee\",\"crane\",\"newman\",\"carnarvon\",\"er regueb\",\"weno\",\"itoman\",\"russellville\",\"malakal\",\"argo\",\"alofi\",\"guiuan\",\"ancud\",\"hermanus\",\"hobyo\",\"valparaiso\",\"palikir - national government center\",\"grantsville\",\"nadi\",\"puerto aysen\",\"gouyave\",\"kizner\",\"mount isa\",\"buka\",\"kalamata\",\"st. john's\",\"hawaiian paradise park\",\"fortuna\",\"mokhsogollokh\",\"puerto armuelles\",\"yarkovo\",\"puerto carreno\",\"paita\",\"utrik\",\"nyurba\",\"nieuw amsterdam\",\"atherton\",\"yuzhno-kurilsk\",\"yei\",\"inhambane\",\"sola\",\"durham\",\"lashio\",\"zhezqazghan\",\"cabugao\",\"nong phai\",\"kimbe\",\"sestri levante\",\"broome\",\"santa ana\",\"puli\",\"vuosaari\",\"tazovsky\",\"shingu\",\"beni\",\"atafu village\",\"imbituba\",\"tara\",\"kashgar\",\"talnakh\",\"gizo\",\"balabac\",\"pico truncado\",\"isanlu-itedoijowa\",\"sitka\",\"remire-montjoly\",\"usogorsk\",\"chonchi\",\"ocean shores\",\"bredasdorp\",\"itoigawa\",\"juegang\",\"lalganj\",\"ad dilam\",\"palapye\",\"loikaw\",\"okhotsk\",\"erenhot\",\"vorgashor\",\"angaur state\",\"brisas de zicatela\",\"east london\",\"taroa\",\"celestun\",\"gordonvale\",\"inarajan village\",\"jinja\",\"tromso\",\"ataq\",\"mangrol\",\"orhei\",\"port alfred\",\"atlantic\",\"guerrero negro\",\"kairana\",\"qarqaraly\",\"port blair\",\"aykhal\",\"dong ha\",\"koksan\",\"ta`u\",\"silver city\",\"gobabis\",\"panguipulli\",\"tirumala\",\"buala\",\"happy valley-goose bay\",\"manismata\",\"melfi\",\"chiredzi\",\"fuling\",\"conde\",\"lethem\",\"honiara\",\"kavaratti\",\"moose jaw\",\"moyynkum\",\"saudarkrokur\",\"mount gambier\",\"tindouf\",\"afaahiti\",\"sho'rchi\",\"cockburn town\",\"san angelo\",\"ampere\",\"la foa\",\"urzhar\",\"nova sintra\",\"changli\",\"freetown\",\"borgo\",\"marsabit\",\"gornopravdinsk\",\"flin flon\",\"sulphur\",\"katsuren-haebaru\",\"kudahuvadhoo\",\"shimokizukuri\",\"colonia\",\"mkushi\",\"rio grande\",\"vielha\",\"kettering\",\"lewisville\",\"sinop\",\"gaigeturi\",\"hilo\",\"kristiansund\",\"acapulco de juarez\",\"nemuro\",\"tshikapa\",\"khandyga\",\"acarau\",\"kodinsk\",\"fereydunshahr\",\"ust'-kulom\",\"kourou\",\"zhanaozen\",\"kotka\",\"morondava\",\"gaoyou\",\"colonia menno\",\"belo sur tsiribihina\",\"la plata\",\"san patricio\",\"laguna\",\"korla\",\"solwezi\",\"nolinsk\",\"weatherford\",\"parras de la fuente\",\"enewetak\",\"vila franca do campo\",\"qamdo\",\"conduaga\",\"at taraf\",\"tot'ma\",\"kargasok\",\"nuuk\",\"camaguey\",\"malax\",\"cianorte\",\"aasiaat\",\"kaa-khem\",\"kailua-kona\",\"vadso\",\"saldanha\",\"quelimane\",\"manaure\",\"san andres\",\"weligama\",\"cabedelo\",\"severo-yeniseyskiy\",\"tolanaro\",\"kalmunai\",\"chipiona\",\"amungan\",\"soio\",\"coahuayana de hidalgo\",\"polyarnyy\",\"nkhotakota\",\"kindu\",\"zayed city\",\"west island\",\"kralendijk\",\"ratlam\",\"al fuwayliq\",\"vernon\",\"saint-louis\",\"kone\",\"fada n'gourma\",\"kawalu\",\"la ronge\",\"caleta de carquin\",\"shevchenko\",\"zakynthos\",\"quellon\",\"luderitz\",\"kerema\",\"umba\",\"dunedin\",\"maych'ew\",\"gebeit\",\"kiruna\",\"hami\",\"olinda\",\"majene\",\"bengkulu\",\"suntar\",\"xilin hot\",\"amursk\",\"port lincoln\",\"sandnessjoen\",\"fada\",\"prince rupert\",\"labuan\",\"trabzon\",\"malpe\",\"kavieng\",\"balpyk bi\",\"koundara\",\"la passe\",\"joaima\",\"veraval\",\"pangai\",\"pallasovka\",\"sabana de torres\",\"butterworth\",\"macapa\",\"cole harbour\",\"prado\",\"kaduna\",\"port saint john's\",\"oranjemund\",\"vila velha\",\"den burg\",\"hornell\",\"peace river\",\"mersing\",\"anadyr\",\"gulf shores\",\"shipunovo\",\"mili\",\"island harbour\",\"coquimbo\",\"jezowe\",\"matoury\",\"tangier\",\"nyrob\",\"kapuskasing\",\"tobelo\",\"moapa valley\",\"mashhad\",\"woodstock\",\"shangrao\",\"nar'yan-mar\",\"punaauia\",\"kill devil hills\",\"kurumkan\",\"tralee\",\"anar darah\",\"broken hill\",\"paea\",\"saipan\",\"fort bragg\",\"lamu\",\"praia da vitoria\",\"sisimiut\",\"bonthe\",\"pacocha\",\"mejit\",\"lepsy\",\"singkil\",\"rawson\",\"port moresby\",\"cabo san lucas\",\"touros\",\"yamba\",\"menongue\",\"awjilah\",\"ouesso\",\"mangai\",\"daru\",\"punta arenas\",\"xam nua\",\"springbok\",\"al bawiti\",\"mitsamiouli\",\"camarinas\",\"aldama\",\"quang ngai\",\"meadow lake\",\"belur\",\"callao\",\"pangkalanbuun\",\"cozumel\",\"tlaltenango de sanchez roman\",\"carriere\",\"shimoda\",\"kununurra\",\"basco\",\"east ballina\",\"higuera de zaragoza\",\"grand gaube\",\"paka\",\"pavilosta\",\"paramonga\",\"nannilam\",\"greenland\",\"nova vicosa\",\"dryden\",\"helsa\",\"corner brook\",\"isaka\",\"tidjikja\",\"campbell river\",\"sirte\",\"salekhard\",\"guneysu\",\"necochea\",\"howrah\",\"taulaga\",\"puerto gaitan\",\"aswan\",\"sao joao da barra\",\"sinabang\",\"morehead city\",\"barra de santo antonio\",\"pathein\",\"drayton valley\",\"castillos\",\"charleston\",\"alice springs\",\"mil'kovo\",\"bandarbeyla\",\"horta\",\"pandaria\",\"taoudenni\",\"obock\",\"juan de ayolas\",\"richmond\",\"novyy urgal\",\"ikwiriri\",\"el granada\",\"castel di sangro\",\"port pirie\",\"tarawa\",\"cannonvale\",\"ghadamis\",\"tanah merah\",\"sheksna\",\"mao\",\"magadan\",\"frontera\",\"hirara\",\"ciudad lazaro cardenas\",\"libreville\",\"iwanai\",\"lebu\",\"sabha\",\"adis zemen\",\"kapa'a\",\"sabaneta\",\"praya\",\"olavarria\",\"lyozna\",\"napili-honokowai\",\"aioun\",\"arraial do cabo\",\"alappuzha\",\"eduardo castex\",\"ushtobe\",\"qianjiang\",\"alma\",\"barcelos\",\"sao felix do xingu\",\"kirakira\",\"slyudyanka\",\"rockland\",\"anna regina\",\"taltal\",\"chibougamau\",\"kurtamysh\",\"hovd\",\"grand falls-windsor\",\"langepas\",\"aiquile\",\"conception bay south\",\"debark'\",\"tual\",\"illizi\",\"siracusa\",\"villa gesell\",\"kita\",\"choyr\",\"city of isabela\",\"bamnet narong\",\"rolla\",\"keelung\",\"malya\",\"madang\",\"kosh-agach\",\"lusambo\",\"cill airne\",\"mhamid\",\"mount pearl\",\"corumba\",\"tsetserleg\",\"flying fish cove\",\"porto novo\",\"hassi messaoud\",\"meraux\",\"midvagur\",\"elko\",\"cifteler\",\"okha\",\"margate\",\"dera bugti\",\"comodoro rivadavia\",\"egilsstadir\",\"pruzhany\",\"karabash\",\"galliano\",\"bijie\",\"puerto baquerizo moreno\",\"labytnangi\",\"baruun-urt\",\"curuzu cuatia\",\"olney\",\"bodo\",\"madalena\",\"salida\",\"chinde\",\"ji'an\",\"zima\",\"robinson\",\"vila do maio\",\"paracuru\",\"denkanikota\",\"gaspe\",\"kalevala\",\"churapcha\",\"altamira\",\"lebedyn\",\"bel ombre\",\"kalia\",\"san rafael\"]}}},\"line_alpha\":{\"type\":\"value\",\"value\":0.5},\"fill_color\":{\"type\":\"field\",\"field\":\"color\",\"transform\":{\"id\":\"p1179\"}},\"fill_alpha\":{\"type\":\"value\",\"value\":0.5},\"hatch_color\":{\"type\":\"field\",\"field\":\"color\",\"transform\":{\"id\":\"p1179\"}},\"hatch_alpha\":{\"type\":\"value\",\"value\":0.5}}},\"selection_glyph\":{\"type\":\"object\",\"name\":\"Scatter\",\"id\":\"p1188\",\"attributes\":{\"tags\":[\"apply_ranges\"],\"x\":{\"type\":\"field\",\"field\":\"Lng\"},\"y\":{\"type\":\"field\",\"field\":\"Lat\"},\"size\":{\"type\":\"field\",\"field\":\"size\"},\"line_color\":{\"type\":\"field\",\"field\":\"color\",\"transform\":{\"id\":\"p1179\"}},\"line_alpha\":{\"type\":\"value\",\"value\":0.5},\"fill_color\":{\"type\":\"field\",\"field\":\"color\",\"transform\":{\"id\":\"p1179\"}},\"fill_alpha\":{\"type\":\"value\",\"value\":0.5},\"hatch_color\":{\"type\":\"field\",\"field\":\"color\",\"transform\":{\"id\":\"p1179\"}},\"hatch_alpha\":{\"type\":\"value\",\"value\":0.5}}},\"nonselection_glyph\":{\"type\":\"object\",\"name\":\"Scatter\",\"id\":\"p1187\",\"attributes\":{\"tags\":[\"apply_ranges\"],\"x\":{\"type\":\"field\",\"field\":\"Lng\"},\"y\":{\"type\":\"field\",\"field\":\"Lat\"},\"size\":{\"type\":\"field\",\"field\":\"size\"},\"line_color\":{\"type\":\"field\",\"field\":\"color\",\"transform\":{\"id\":\"p1179\"}},\"line_alpha\":{\"type\":\"value\",\"value\":0.5},\"fill_color\":{\"type\":\"field\",\"field\":\"color\",\"transform\":{\"id\":\"p1179\"}},\"fill_alpha\":{\"type\":\"value\",\"value\":0.5},\"hatch_color\":{\"type\":\"field\",\"field\":\"color\",\"transform\":{\"id\":\"p1179\"}},\"hatch_alpha\":{\"type\":\"value\",\"value\":0.1}}},\"hover_glyph\":{\"type\":\"object\",\"name\":\"Scatter\",\"id\":\"p1189\",\"attributes\":{\"tags\":[\"apply_ranges\"],\"x\":{\"type\":\"field\",\"field\":\"Lng\"},\"y\":{\"type\":\"field\",\"field\":\"Lat\"},\"size\":{\"type\":\"field\",\"field\":\"size\"},\"line_color\":{\"type\":\"field\",\"field\":\"color\",\"transform\":{\"id\":\"p1179\"}},\"line_alpha\":{\"type\":\"value\",\"value\":0.5},\"fill_color\":{\"type\":\"field\",\"field\":\"color\",\"transform\":{\"id\":\"p1179\"}},\"fill_alpha\":{\"type\":\"value\",\"value\":0.5},\"hatch_color\":{\"type\":\"field\",\"field\":\"color\",\"transform\":{\"id\":\"p1179\"}},\"hatch_alpha\":{\"type\":\"value\",\"value\":0.5}}},\"muted_glyph\":{\"type\":\"object\",\"name\":\"Scatter\",\"id\":\"p1190\",\"attributes\":{\"tags\":[\"apply_ranges\"],\"x\":{\"type\":\"field\",\"field\":\"Lng\"},\"y\":{\"type\":\"field\",\"field\":\"Lat\"},\"size\":{\"type\":\"field\",\"field\":\"size\"},\"line_color\":{\"type\":\"field\",\"field\":\"color\",\"transform\":{\"id\":\"p1179\"}},\"line_alpha\":{\"type\":\"value\",\"value\":0.2},\"fill_color\":{\"type\":\"field\",\"field\":\"color\",\"transform\":{\"id\":\"p1179\"}},\"fill_alpha\":{\"type\":\"value\",\"value\":0.2},\"hatch_color\":{\"type\":\"field\",\"field\":\"color\",\"transform\":{\"id\":\"p1179\"}},\"hatch_alpha\":{\"type\":\"value\",\"value\":0.2}}}}}],\"toolbar\":{\"type\":\"object\",\"name\":\"Toolbar\",\"id\":\"p1151\",\"attributes\":{\"tools\":[{\"type\":\"object\",\"name\":\"WheelZoomTool\",\"id\":\"p1127\",\"attributes\":{\"renderers\":\"auto\",\"zoom_on_axis\":false}},{\"type\":\"object\",\"name\":\"BoxZoomTool\",\"id\":\"p1128\",\"attributes\":{\"overlay\":{\"type\":\"object\",\"name\":\"BoxAnnotation\",\"id\":\"p1006\",\"attributes\":{\"syncable\":false,\"level\":\"overlay\",\"visible\":false,\"left\":{\"type\":\"number\",\"value\":\"nan\"},\"right\":{\"type\":\"number\",\"value\":\"nan\"},\"top\":{\"type\":\"number\",\"value\":\"nan\"},\"bottom\":{\"type\":\"number\",\"value\":\"nan\"},\"left_units\":\"canvas\",\"right_units\":\"canvas\",\"top_units\":\"canvas\",\"bottom_units\":\"canvas\",\"line_color\":\"black\",\"line_alpha\":1.0,\"line_width\":2,\"line_dash\":[4,4],\"fill_color\":\"lightgrey\",\"fill_alpha\":0.5}},\"match_aspect\":true}},{\"type\":\"object\",\"name\":\"HoverTool\",\"id\":\"p1141\",\"attributes\":{\"tags\":[\"hv_created\"],\"renderers\":[{\"id\":\"p1191\"}],\"tooltips\":[[\"Lng\",\"$x{custom}\"],[\"Lat\",\"$y{custom}\"],[\"City\",\"@{City}\"],[\"Humidity\",\"@{Humidity}\"]],\"formatters\":{\"type\":\"map\",\"entries\":[[\"$x\",{\"type\":\"object\",\"name\":\"CustomJSHover\",\"id\":\"p1196\",\"attributes\":{\"code\":\"\\n        const projections = Bokeh.require(\\\"core/util/projections\\\");\\n        const {snap_x, snap_y} = special_vars\\n        const coords = projections.wgs84_mercator.invert(snap_x, snap_y)\\n        return \\\"\\\" + (coords[0]).toFixed(4)\\n    \"}}],[\"$y\",{\"type\":\"object\",\"name\":\"CustomJSHover\",\"id\":\"p1197\",\"attributes\":{\"code\":\"\\n        const projections = Bokeh.require(\\\"core/util/projections\\\");\\n        const {snap_x, snap_y} = special_vars\\n        const coords = projections.wgs84_mercator.invert(snap_x, snap_y)\\n        return \\\"\\\" + (coords[1]).toFixed(4)\\n    \"}}]]}}},{\"type\":\"object\",\"name\":\"PanTool\",\"id\":\"p1165\"},{\"type\":\"object\",\"name\":\"ResetTool\",\"id\":\"p1166\"}],\"active_drag\":{\"id\":\"p1165\"}}},\"left\":[{\"type\":\"object\",\"name\":\"LinearAxis\",\"id\":\"p1159\",\"attributes\":{\"ticker\":{\"type\":\"object\",\"name\":\"MercatorTicker\",\"id\":\"p1169\",\"attributes\":{\"mantissas\":[1,2,5],\"dimension\":\"lat\"}},\"formatter\":{\"type\":\"object\",\"name\":\"MercatorTickFormatter\",\"id\":\"p1170\",\"attributes\":{\"dimension\":\"lat\"}},\"axis_label\":\"Latitude\",\"major_label_policy\":{\"type\":\"object\",\"name\":\"AllLabels\",\"id\":\"p1162\"}}}],\"right\":[{\"type\":\"object\",\"name\":\"Legend\",\"id\":\"p1194\",\"attributes\":{\"location\":[0,0],\"click_policy\":\"mute\",\"items\":[{\"type\":\"object\",\"name\":\"LegendItem\",\"id\":\"p1195\",\"attributes\":{\"label\":{\"type\":\"field\",\"field\":\"color\"},\"renderers\":[{\"id\":\"p1191\"}]}}]}}],\"below\":[{\"type\":\"object\",\"name\":\"LinearAxis\",\"id\":\"p1154\",\"attributes\":{\"ticker\":{\"type\":\"object\",\"name\":\"MercatorTicker\",\"id\":\"p1167\",\"attributes\":{\"mantissas\":[1,2,5],\"dimension\":\"lon\"}},\"formatter\":{\"type\":\"object\",\"name\":\"MercatorTickFormatter\",\"id\":\"p1168\",\"attributes\":{\"dimension\":\"lon\"}},\"axis_label\":\"Longitude\",\"major_label_policy\":{\"type\":\"object\",\"name\":\"AllLabels\",\"id\":\"p1157\"}}}],\"center\":[{\"type\":\"object\",\"name\":\"Grid\",\"id\":\"p1158\",\"attributes\":{\"axis\":{\"id\":\"p1154\"},\"grid_line_color\":null}},{\"type\":\"object\",\"name\":\"Grid\",\"id\":\"p1163\",\"attributes\":{\"dimension\":1,\"axis\":{\"id\":\"p1159\"},\"grid_line_color\":null}}],\"frame_width\":700,\"frame_height\":500,\"min_border_top\":10,\"min_border_bottom\":10,\"min_border_left\":10,\"min_border_right\":10,\"output_backend\":\"webgl\",\"match_aspect\":true}},{\"type\":\"object\",\"name\":\"Spacer\",\"id\":\"p1199\",\"attributes\":{\"name\":\"HSpacer01864\",\"stylesheets\":[\"\\n:host(.pn-loading.pn-arc):before, .pn-loading.pn-arc:before {\\n  background-image: url(\\\"data:image/svg+xml;base64,PHN2ZyB4bWxucz0iaHR0cDovL3d3dy53My5vcmcvMjAwMC9zdmciIHN0eWxlPSJtYXJnaW46IGF1dG87IGJhY2tncm91bmQ6IG5vbmU7IGRpc3BsYXk6IGJsb2NrOyBzaGFwZS1yZW5kZXJpbmc6IGF1dG87IiB2aWV3Qm94PSIwIDAgMTAwIDEwMCIgcHJlc2VydmVBc3BlY3RSYXRpbz0ieE1pZFlNaWQiPiAgPGNpcmNsZSBjeD0iNTAiIGN5PSI1MCIgZmlsbD0ibm9uZSIgc3Ryb2tlPSIjYzNjM2MzIiBzdHJva2Utd2lkdGg9IjEwIiByPSIzNSIgc3Ryb2tlLWRhc2hhcnJheT0iMTY0LjkzMzYxNDMxMzQ2NDE1IDU2Ljk3Nzg3MTQzNzgyMTM4Ij4gICAgPGFuaW1hdGVUcmFuc2Zvcm0gYXR0cmlidXRlTmFtZT0idHJhbnNmb3JtIiB0eXBlPSJyb3RhdGUiIHJlcGVhdENvdW50PSJpbmRlZmluaXRlIiBkdXI9IjFzIiB2YWx1ZXM9IjAgNTAgNTA7MzYwIDUwIDUwIiBrZXlUaW1lcz0iMDsxIj48L2FuaW1hdGVUcmFuc2Zvcm0+ICA8L2NpcmNsZT48L3N2Zz4=\\\");\\n  background-size: auto calc(min(50%, 400px));\\n}\",{\"id\":\"p1112\"},{\"id\":\"p1110\"},{\"id\":\"p1111\"}],\"margin\":0,\"sizing_mode\":\"stretch_width\",\"align\":\"start\"}}]}}],\"defs\":[{\"type\":\"model\",\"name\":\"ReactiveHTML1\"},{\"type\":\"model\",\"name\":\"FlexBox1\",\"properties\":[{\"name\":\"align_content\",\"kind\":\"Any\",\"default\":\"flex-start\"},{\"name\":\"align_items\",\"kind\":\"Any\",\"default\":\"flex-start\"},{\"name\":\"flex_direction\",\"kind\":\"Any\",\"default\":\"row\"},{\"name\":\"flex_wrap\",\"kind\":\"Any\",\"default\":\"wrap\"},{\"name\":\"justify_content\",\"kind\":\"Any\",\"default\":\"flex-start\"}]},{\"type\":\"model\",\"name\":\"FloatPanel1\",\"properties\":[{\"name\":\"config\",\"kind\":\"Any\",\"default\":{\"type\":\"map\"}},{\"name\":\"contained\",\"kind\":\"Any\",\"default\":true},{\"name\":\"position\",\"kind\":\"Any\",\"default\":\"right-top\"},{\"name\":\"offsetx\",\"kind\":\"Any\",\"default\":null},{\"name\":\"offsety\",\"kind\":\"Any\",\"default\":null},{\"name\":\"theme\",\"kind\":\"Any\",\"default\":\"primary\"},{\"name\":\"status\",\"kind\":\"Any\",\"default\":\"normalized\"}]},{\"type\":\"model\",\"name\":\"GridStack1\",\"properties\":[{\"name\":\"mode\",\"kind\":\"Any\",\"default\":\"warn\"},{\"name\":\"ncols\",\"kind\":\"Any\",\"default\":null},{\"name\":\"nrows\",\"kind\":\"Any\",\"default\":null},{\"name\":\"allow_resize\",\"kind\":\"Any\",\"default\":true},{\"name\":\"allow_drag\",\"kind\":\"Any\",\"default\":true},{\"name\":\"state\",\"kind\":\"Any\",\"default\":[]}]},{\"type\":\"model\",\"name\":\"drag1\",\"properties\":[{\"name\":\"slider_width\",\"kind\":\"Any\",\"default\":5},{\"name\":\"slider_color\",\"kind\":\"Any\",\"default\":\"black\"},{\"name\":\"value\",\"kind\":\"Any\",\"default\":50}]},{\"type\":\"model\",\"name\":\"click1\",\"properties\":[{\"name\":\"terminal_output\",\"kind\":\"Any\",\"default\":\"\"},{\"name\":\"debug_name\",\"kind\":\"Any\",\"default\":\"\"},{\"name\":\"clears\",\"kind\":\"Any\",\"default\":0}]},{\"type\":\"model\",\"name\":\"toggle_value1\",\"properties\":[{\"name\":\"active_icons\",\"kind\":\"Any\",\"default\":{\"type\":\"map\"}},{\"name\":\"options\",\"kind\":\"Any\",\"default\":{\"type\":\"map\",\"entries\":[[\"favorite\",\"heart\"]]}},{\"name\":\"value\",\"kind\":\"Any\",\"default\":[]},{\"name\":\"_reactions\",\"kind\":\"Any\",\"default\":[]},{\"name\":\"_base_url\",\"kind\":\"Any\",\"default\":\"https://tabler-icons.io/static/tabler-icons/icons/\"}]},{\"type\":\"model\",\"name\":\"copy_to_clipboard1\",\"properties\":[{\"name\":\"value\",\"kind\":\"Any\",\"default\":null},{\"name\":\"fill\",\"kind\":\"Any\",\"default\":\"none\"}]},{\"type\":\"model\",\"name\":\"FastWrapper1\",\"properties\":[{\"name\":\"object\",\"kind\":\"Any\",\"default\":null},{\"name\":\"style\",\"kind\":\"Any\",\"default\":null}]},{\"type\":\"model\",\"name\":\"NotificationAreaBase1\",\"properties\":[{\"name\":\"js_events\",\"kind\":\"Any\",\"default\":{\"type\":\"map\"}},{\"name\":\"position\",\"kind\":\"Any\",\"default\":\"bottom-right\"},{\"name\":\"_clear\",\"kind\":\"Any\",\"default\":0}]},{\"type\":\"model\",\"name\":\"NotificationArea1\",\"properties\":[{\"name\":\"js_events\",\"kind\":\"Any\",\"default\":{\"type\":\"map\"}},{\"name\":\"notifications\",\"kind\":\"Any\",\"default\":[]},{\"name\":\"position\",\"kind\":\"Any\",\"default\":\"bottom-right\"},{\"name\":\"_clear\",\"kind\":\"Any\",\"default\":0},{\"name\":\"types\",\"kind\":\"Any\",\"default\":[{\"type\":\"map\",\"entries\":[[\"type\",\"warning\"],[\"background\",\"#ffc107\"],[\"icon\",{\"type\":\"map\",\"entries\":[[\"className\",\"fas fa-exclamation-triangle\"],[\"tagName\",\"i\"],[\"color\",\"white\"]]}]]},{\"type\":\"map\",\"entries\":[[\"type\",\"info\"],[\"background\",\"#007bff\"],[\"icon\",{\"type\":\"map\",\"entries\":[[\"className\",\"fas fa-info-circle\"],[\"tagName\",\"i\"],[\"color\",\"white\"]]}]]}]}]},{\"type\":\"model\",\"name\":\"Notification\",\"properties\":[{\"name\":\"background\",\"kind\":\"Any\",\"default\":null},{\"name\":\"duration\",\"kind\":\"Any\",\"default\":3000},{\"name\":\"icon\",\"kind\":\"Any\",\"default\":null},{\"name\":\"message\",\"kind\":\"Any\",\"default\":\"\"},{\"name\":\"notification_type\",\"kind\":\"Any\",\"default\":null},{\"name\":\"_destroyed\",\"kind\":\"Any\",\"default\":false}]},{\"type\":\"model\",\"name\":\"TemplateActions1\",\"properties\":[{\"name\":\"open_modal\",\"kind\":\"Any\",\"default\":0},{\"name\":\"close_modal\",\"kind\":\"Any\",\"default\":0}]},{\"type\":\"model\",\"name\":\"BootstrapTemplateActions1\",\"properties\":[{\"name\":\"open_modal\",\"kind\":\"Any\",\"default\":0},{\"name\":\"close_modal\",\"kind\":\"Any\",\"default\":0}]},{\"type\":\"model\",\"name\":\"MaterialTemplateActions1\",\"properties\":[{\"name\":\"open_modal\",\"kind\":\"Any\",\"default\":0},{\"name\":\"close_modal\",\"kind\":\"Any\",\"default\":0}]}]}};\n",
       "  var render_items = [{\"docid\":\"547784c9-d765-4624-bc58-fb8cf2689a3e\",\"roots\":{\"p1109\":\"ab290303-82af-4b3e-8f01-6c66ef2ce088\"},\"root_ids\":[\"p1109\"]}];\n",
       "  var docs = Object.values(docs_json)\n",
       "  if (!docs) {\n",
       "    return\n",
       "  }\n",
       "  const py_version = docs[0].version.replace('rc', '-rc.').replace('.dev', '-dev.')\n",
       "  function embed_document(root) {\n",
       "    var Bokeh = get_bokeh(root)\n",
       "    Bokeh.embed.embed_items_notebook(docs_json, render_items);\n",
       "    for (const render_item of render_items) {\n",
       "      for (const root_id of render_item.root_ids) {\n",
       "\tconst id_el = document.getElementById(root_id)\n",
       "\tif (id_el.children.length && (id_el.children[0].className === 'bk-root')) {\n",
       "\t  const root_el = id_el.children[0]\n",
       "\t  root_el.id = root_el.id + '-rendered'\n",
       "\t}\n",
       "      }\n",
       "    }\n",
       "  }\n",
       "  function get_bokeh(root) {\n",
       "    if (root.Bokeh === undefined) {\n",
       "      return null\n",
       "    } else if (root.Bokeh.version !== py_version) {\n",
       "      if (root.Bokeh.versions === undefined || !root.Bokeh.versions.has(py_version)) {\n",
       "\treturn null\n",
       "      }\n",
       "      return root.Bokeh.versions.get(py_version);\n",
       "    } else if (root.Bokeh.version === py_version) {\n",
       "      return root.Bokeh\n",
       "    }\n",
       "    return null\n",
       "  }\n",
       "  function is_loaded(root) {\n",
       "    var Bokeh = get_bokeh(root)\n",
       "    return (Bokeh != null && Bokeh.Panel !== undefined)\n",
       "  }\n",
       "  if (is_loaded(root)) {\n",
       "    embed_document(root);\n",
       "  } else {\n",
       "    var attempts = 0;\n",
       "    var timer = setInterval(function(root) {\n",
       "      if (is_loaded(root)) {\n",
       "        clearInterval(timer);\n",
       "        embed_document(root);\n",
       "      } else if (document.readyState == \"complete\") {\n",
       "        attempts++;\n",
       "        if (attempts > 200) {\n",
       "          clearInterval(timer);\n",
       "\t  var Bokeh = get_bokeh(root)\n",
       "\t  if (Bokeh == null || Bokeh.Panel == null) {\n",
       "            console.warn(\"Panel: ERROR: Unable to run Panel code because Bokeh or Panel library is missing\");\n",
       "\t  } else {\n",
       "\t    console.warn(\"Panel: WARNING: Attempting to render but not all required libraries could be resolved.\")\n",
       "\t    embed_document(root)\n",
       "\t  }\n",
       "        }\n",
       "      }\n",
       "    }, 25, root)\n",
       "  }\n",
       "})(window);</script>"
      ],
      "text/plain": [
       ":Overlay\n",
       "   .WMTS.I   :WMTS   [Longitude,Latitude]\n",
       "   .Points.I :Points   [Lng,Lat]   (City,Humidity)"
      ]
     },
     "execution_count": 6,
     "metadata": {
      "application/vnd.holoviews_exec.v0+json": {
       "id": "p1109"
      }
     },
     "output_type": "execute_result"
    }
   ],
   "source": [
    "# Configure the map plot\n",
    "map_1 = city_data_df.hvplot.points(\n",
    "    'Lng',\n",
    "    'Lat',\n",
    "    geo = True,\n",
    "    tiles = 'OSM',\n",
    "    frame_width = 700,\n",
    "    frame_height = 500,\n",
    "    size = 'Humidity',\n",
    "    scale = 1,\n",
    "    alpha = 0.5,\n",
    "    color = 'City'\n",
    ")\n",
    "\n",
    "# Display the map\n",
    "map_1"
   ]
  },
  {
   "cell_type": "markdown",
   "metadata": {},
   "source": [
    "### Step 2: Narrow down the `city_data_df` DataFrame to find your ideal weather condition"
   ]
  },
  {
   "cell_type": "code",
   "execution_count": 8,
   "metadata": {},
   "outputs": [
    {
     "data": {
      "text/html": [
       "<div>\n",
       "<style scoped>\n",
       "    .dataframe tbody tr th:only-of-type {\n",
       "        vertical-align: middle;\n",
       "    }\n",
       "\n",
       "    .dataframe tbody tr th {\n",
       "        vertical-align: top;\n",
       "    }\n",
       "\n",
       "    .dataframe thead th {\n",
       "        text-align: right;\n",
       "    }\n",
       "</style>\n",
       "<table border=\"1\" class=\"dataframe\">\n",
       "  <thead>\n",
       "    <tr style=\"text-align: right;\">\n",
       "      <th></th>\n",
       "      <th>City_ID</th>\n",
       "      <th>City</th>\n",
       "      <th>Lat</th>\n",
       "      <th>Lng</th>\n",
       "      <th>Max Temp</th>\n",
       "      <th>Humidity</th>\n",
       "      <th>Cloudiness</th>\n",
       "      <th>Wind Speed</th>\n",
       "      <th>Country</th>\n",
       "      <th>Date</th>\n",
       "    </tr>\n",
       "  </thead>\n",
       "  <tbody>\n",
       "  </tbody>\n",
       "</table>\n",
       "</div>"
      ],
      "text/plain": [
       "Empty DataFrame\n",
       "Columns: [City_ID, City, Lat, Lng, Max Temp, Humidity, Cloudiness, Wind Speed, Country, Date]\n",
       "Index: []"
      ]
     },
     "execution_count": 8,
     "metadata": {},
     "output_type": "execute_result"
    }
   ],
   "source": [
    "# Narrow down cities that fit criteria\n",
    "ideal_cities_df = city_data_df[(city_data_df['Max Temp'] > 21) & \n",
    "                               (city_data_df['Max Temp'] < 27) &\n",
    "                               (city_data_df['Wind Speed'] < 4.5) &\n",
    "                               (city_data_df['Cloudiness'] == 0)]\n",
    "\n",
    "# Drop any rows with null values\n",
    "ideal_cities_df = ideal_cities_df.dropna()\n",
    "\n",
    "# Display sample data\n",
    "ideal_cities_df\n"
   ]
  },
  {
   "cell_type": "markdown",
   "metadata": {},
   "source": [
    "### Step 3: Create a new DataFrame called `hotel_df`."
   ]
  },
  {
   "cell_type": "code",
   "execution_count": 9,
   "metadata": {},
   "outputs": [
    {
     "data": {
      "text/html": [
       "<div>\n",
       "<style scoped>\n",
       "    .dataframe tbody tr th:only-of-type {\n",
       "        vertical-align: middle;\n",
       "    }\n",
       "\n",
       "    .dataframe tbody tr th {\n",
       "        vertical-align: top;\n",
       "    }\n",
       "\n",
       "    .dataframe thead th {\n",
       "        text-align: right;\n",
       "    }\n",
       "</style>\n",
       "<table border=\"1\" class=\"dataframe\">\n",
       "  <thead>\n",
       "    <tr style=\"text-align: right;\">\n",
       "      <th></th>\n",
       "      <th>City</th>\n",
       "      <th>Country</th>\n",
       "      <th>Lat</th>\n",
       "      <th>Lng</th>\n",
       "      <th>Humidity</th>\n",
       "      <th>Hotel Name</th>\n",
       "    </tr>\n",
       "  </thead>\n",
       "  <tbody>\n",
       "  </tbody>\n",
       "</table>\n",
       "</div>"
      ],
      "text/plain": [
       "Empty DataFrame\n",
       "Columns: [City, Country, Lat, Lng, Humidity, Hotel Name]\n",
       "Index: []"
      ]
     },
     "execution_count": 9,
     "metadata": {},
     "output_type": "execute_result"
    }
   ],
   "source": [
    "# Use the Pandas copy function to create DataFrame called hotel_df to store the city, country, coordinates, and humidity\n",
    "hotel_df = pd.DataFrame({\n",
    "    'City': ideal_cities_df['City'],\n",
    "    'Country': ideal_cities_df['Country'],\n",
    "    'Lat': ideal_cities_df['Lat'],\n",
    "    'Lng': ideal_cities_df[\"Lng\"],\n",
    "    'Humidity': ideal_cities_df['Humidity'],\n",
    "    'Hotel Name': ''\n",
    "    })\n",
    "\n",
    "hotel_df"
   ]
  },
  {
   "cell_type": "markdown",
   "metadata": {},
   "source": [
    "### Step 4: For each city, use the Geoapify API to find the first hotel located within 10,000 metres of your coordinates."
   ]
  },
  {
   "cell_type": "code",
   "execution_count": 10,
   "metadata": {},
   "outputs": [
    {
     "name": "stdout",
     "output_type": "stream",
     "text": [
      "Starting hotel search\n",
      "Empty DataFrame\n",
      "Columns: [City, Country, Lat, Lng, Humidity, Hotel Name]\n",
      "Index: []\n"
     ]
    }
   ],
   "source": [
    "# Set parameters to search for a hotel\n",
    "radius = 10000  # Set the search radius to 10,000 meters\n",
    "params = {\n",
    "    \"type\": \"hotel\",  # Specify the type of place to search for (hotel)\n",
    "    \"radius\": radius,  # Set the search radius\n",
    "    \"limit\": 1,  # Limit the number of results to 1\n",
    "}\n",
    "\n",
    "# Print a message to follow up the hotel search\n",
    "print(\"Starting hotel search\")\n",
    "\n",
    "# Iterate through the hotel_df DataFrame\n",
    "for index, row in hotel_df.iterrows():\n",
    "    # Get latitude, longitude from the DataFrame\n",
    "    lat = row[\"Lat\"]\n",
    "    lng = row[\"Lng\"]\n",
    "    \n",
    "    # Add latitude and longitude to the params dictionary\n",
    "    params[\"lat\"] = lat\n",
    "    params[\"lon\"] = lng\n",
    "    \n",
    "    # Set base URL\n",
    "    base_url = \"https://api.geoapify.com/v2/places\"\n",
    "\n",
    "    # Make an API request using the params dictionary\n",
    "    response = requests.get(base_url, params=params)\n",
    "    \n",
    "    # Convert the API response to JSON format\n",
    "    hotel_data = response.json()\n",
    "    \n",
    "    # Grab the first hotel from the results and store the name in the hotel_df DataFrame\n",
    "    try:\n",
    "        hotel_df.loc[index, \"Hotel Name\"] = hotel_data[\"features\"][0][\"properties\"][\"name\"]\n",
    "    except (KeyError, IndexError):\n",
    "        # If no hotel is found, set the hotel name as \"No hotel found\".\n",
    "        hotel_df.loc[index, \"Hotel Name\"] = \"No hotel found\"\n",
    "        \n",
    "    # Log the search results\n",
    "    print(f\"{hotel_df.loc[index, 'City']} - nearest hotel: {hotel_df.loc[index, 'Hotel Name']}\")\n",
    "\n",
    "# Display sample data\n",
    "print(hotel_df.head())\n",
    "\n"
   ]
  },
  {
   "cell_type": "markdown",
   "metadata": {},
   "source": [
    "### Step 5: Add the hotel name and the country as additional information in the hover message for each city in the map."
   ]
  },
  {
   "cell_type": "code",
   "execution_count": 11,
   "metadata": {},
   "outputs": [
    {
     "data": {
      "application/vnd.plotly.v1+json": {
       "config": {
        "plotlyServerURL": "https://plot.ly"
       },
       "data": [
        {
         "customdata": [],
         "hovertemplate": "<b>%{hovertext}</b><br><br>Humidity=%{marker.color}<br>Lat=%{lat}<br>Lng=%{lon}<br>Hotel Name=%{customdata[0]}<br>Country=%{customdata[1]}<extra></extra>",
         "hovertext": [],
         "lat": [],
         "legendgroup": "",
         "lon": [],
         "marker": {
          "color": [],
          "coloraxis": "coloraxis",
          "size": [],
          "sizemode": "area",
          "sizeref": null
         },
         "mode": "markers",
         "name": "",
         "showlegend": false,
         "subplot": "mapbox",
         "type": "scattermapbox"
        }
       ],
       "layout": {
        "coloraxis": {
         "colorbar": {
          "title": {
           "text": "Humidity"
          }
         },
         "colorscale": [
          [
           0,
           "#440154"
          ],
          [
           0.1111111111111111,
           "#482878"
          ],
          [
           0.2222222222222222,
           "#3e4989"
          ],
          [
           0.3333333333333333,
           "#31688e"
          ],
          [
           0.4444444444444444,
           "#26828e"
          ],
          [
           0.5555555555555556,
           "#1f9e89"
          ],
          [
           0.6666666666666666,
           "#35b779"
          ],
          [
           0.7777777777777778,
           "#6ece58"
          ],
          [
           0.8888888888888888,
           "#b5de2b"
          ],
          [
           1,
           "#fde725"
          ]
         ]
        },
        "hovermode": "closest",
        "legend": {
         "itemsizing": "constant",
         "tracegroupgap": 0
        },
        "mapbox": {
         "center": {
          "lat": null,
          "lon": null
         },
         "domain": {
          "x": [
           0,
           1
          ],
          "y": [
           0,
           1
          ]
         },
         "style": "open-street-map",
         "zoom": 1
        },
        "margin": {
         "b": 0,
         "l": 0,
         "r": 0,
         "t": 0
        },
        "template": {
         "data": {
          "bar": [
           {
            "error_x": {
             "color": "#2a3f5f"
            },
            "error_y": {
             "color": "#2a3f5f"
            },
            "marker": {
             "line": {
              "color": "#E5ECF6",
              "width": 0.5
             },
             "pattern": {
              "fillmode": "overlay",
              "size": 10,
              "solidity": 0.2
             }
            },
            "type": "bar"
           }
          ],
          "barpolar": [
           {
            "marker": {
             "line": {
              "color": "#E5ECF6",
              "width": 0.5
             },
             "pattern": {
              "fillmode": "overlay",
              "size": 10,
              "solidity": 0.2
             }
            },
            "type": "barpolar"
           }
          ],
          "carpet": [
           {
            "aaxis": {
             "endlinecolor": "#2a3f5f",
             "gridcolor": "white",
             "linecolor": "white",
             "minorgridcolor": "white",
             "startlinecolor": "#2a3f5f"
            },
            "baxis": {
             "endlinecolor": "#2a3f5f",
             "gridcolor": "white",
             "linecolor": "white",
             "minorgridcolor": "white",
             "startlinecolor": "#2a3f5f"
            },
            "type": "carpet"
           }
          ],
          "choropleth": [
           {
            "colorbar": {
             "outlinewidth": 0,
             "ticks": ""
            },
            "type": "choropleth"
           }
          ],
          "contour": [
           {
            "colorbar": {
             "outlinewidth": 0,
             "ticks": ""
            },
            "colorscale": [
             [
              0,
              "#0d0887"
             ],
             [
              0.1111111111111111,
              "#46039f"
             ],
             [
              0.2222222222222222,
              "#7201a8"
             ],
             [
              0.3333333333333333,
              "#9c179e"
             ],
             [
              0.4444444444444444,
              "#bd3786"
             ],
             [
              0.5555555555555556,
              "#d8576b"
             ],
             [
              0.6666666666666666,
              "#ed7953"
             ],
             [
              0.7777777777777778,
              "#fb9f3a"
             ],
             [
              0.8888888888888888,
              "#fdca26"
             ],
             [
              1,
              "#f0f921"
             ]
            ],
            "type": "contour"
           }
          ],
          "contourcarpet": [
           {
            "colorbar": {
             "outlinewidth": 0,
             "ticks": ""
            },
            "type": "contourcarpet"
           }
          ],
          "heatmap": [
           {
            "colorbar": {
             "outlinewidth": 0,
             "ticks": ""
            },
            "colorscale": [
             [
              0,
              "#0d0887"
             ],
             [
              0.1111111111111111,
              "#46039f"
             ],
             [
              0.2222222222222222,
              "#7201a8"
             ],
             [
              0.3333333333333333,
              "#9c179e"
             ],
             [
              0.4444444444444444,
              "#bd3786"
             ],
             [
              0.5555555555555556,
              "#d8576b"
             ],
             [
              0.6666666666666666,
              "#ed7953"
             ],
             [
              0.7777777777777778,
              "#fb9f3a"
             ],
             [
              0.8888888888888888,
              "#fdca26"
             ],
             [
              1,
              "#f0f921"
             ]
            ],
            "type": "heatmap"
           }
          ],
          "heatmapgl": [
           {
            "colorbar": {
             "outlinewidth": 0,
             "ticks": ""
            },
            "colorscale": [
             [
              0,
              "#0d0887"
             ],
             [
              0.1111111111111111,
              "#46039f"
             ],
             [
              0.2222222222222222,
              "#7201a8"
             ],
             [
              0.3333333333333333,
              "#9c179e"
             ],
             [
              0.4444444444444444,
              "#bd3786"
             ],
             [
              0.5555555555555556,
              "#d8576b"
             ],
             [
              0.6666666666666666,
              "#ed7953"
             ],
             [
              0.7777777777777778,
              "#fb9f3a"
             ],
             [
              0.8888888888888888,
              "#fdca26"
             ],
             [
              1,
              "#f0f921"
             ]
            ],
            "type": "heatmapgl"
           }
          ],
          "histogram": [
           {
            "marker": {
             "pattern": {
              "fillmode": "overlay",
              "size": 10,
              "solidity": 0.2
             }
            },
            "type": "histogram"
           }
          ],
          "histogram2d": [
           {
            "colorbar": {
             "outlinewidth": 0,
             "ticks": ""
            },
            "colorscale": [
             [
              0,
              "#0d0887"
             ],
             [
              0.1111111111111111,
              "#46039f"
             ],
             [
              0.2222222222222222,
              "#7201a8"
             ],
             [
              0.3333333333333333,
              "#9c179e"
             ],
             [
              0.4444444444444444,
              "#bd3786"
             ],
             [
              0.5555555555555556,
              "#d8576b"
             ],
             [
              0.6666666666666666,
              "#ed7953"
             ],
             [
              0.7777777777777778,
              "#fb9f3a"
             ],
             [
              0.8888888888888888,
              "#fdca26"
             ],
             [
              1,
              "#f0f921"
             ]
            ],
            "type": "histogram2d"
           }
          ],
          "histogram2dcontour": [
           {
            "colorbar": {
             "outlinewidth": 0,
             "ticks": ""
            },
            "colorscale": [
             [
              0,
              "#0d0887"
             ],
             [
              0.1111111111111111,
              "#46039f"
             ],
             [
              0.2222222222222222,
              "#7201a8"
             ],
             [
              0.3333333333333333,
              "#9c179e"
             ],
             [
              0.4444444444444444,
              "#bd3786"
             ],
             [
              0.5555555555555556,
              "#d8576b"
             ],
             [
              0.6666666666666666,
              "#ed7953"
             ],
             [
              0.7777777777777778,
              "#fb9f3a"
             ],
             [
              0.8888888888888888,
              "#fdca26"
             ],
             [
              1,
              "#f0f921"
             ]
            ],
            "type": "histogram2dcontour"
           }
          ],
          "mesh3d": [
           {
            "colorbar": {
             "outlinewidth": 0,
             "ticks": ""
            },
            "type": "mesh3d"
           }
          ],
          "parcoords": [
           {
            "line": {
             "colorbar": {
              "outlinewidth": 0,
              "ticks": ""
             }
            },
            "type": "parcoords"
           }
          ],
          "pie": [
           {
            "automargin": true,
            "type": "pie"
           }
          ],
          "scatter": [
           {
            "fillpattern": {
             "fillmode": "overlay",
             "size": 10,
             "solidity": 0.2
            },
            "type": "scatter"
           }
          ],
          "scatter3d": [
           {
            "line": {
             "colorbar": {
              "outlinewidth": 0,
              "ticks": ""
             }
            },
            "marker": {
             "colorbar": {
              "outlinewidth": 0,
              "ticks": ""
             }
            },
            "type": "scatter3d"
           }
          ],
          "scattercarpet": [
           {
            "marker": {
             "colorbar": {
              "outlinewidth": 0,
              "ticks": ""
             }
            },
            "type": "scattercarpet"
           }
          ],
          "scattergeo": [
           {
            "marker": {
             "colorbar": {
              "outlinewidth": 0,
              "ticks": ""
             }
            },
            "type": "scattergeo"
           }
          ],
          "scattergl": [
           {
            "marker": {
             "colorbar": {
              "outlinewidth": 0,
              "ticks": ""
             }
            },
            "type": "scattergl"
           }
          ],
          "scattermapbox": [
           {
            "marker": {
             "colorbar": {
              "outlinewidth": 0,
              "ticks": ""
             }
            },
            "type": "scattermapbox"
           }
          ],
          "scatterpolar": [
           {
            "marker": {
             "colorbar": {
              "outlinewidth": 0,
              "ticks": ""
             }
            },
            "type": "scatterpolar"
           }
          ],
          "scatterpolargl": [
           {
            "marker": {
             "colorbar": {
              "outlinewidth": 0,
              "ticks": ""
             }
            },
            "type": "scatterpolargl"
           }
          ],
          "scatterternary": [
           {
            "marker": {
             "colorbar": {
              "outlinewidth": 0,
              "ticks": ""
             }
            },
            "type": "scatterternary"
           }
          ],
          "surface": [
           {
            "colorbar": {
             "outlinewidth": 0,
             "ticks": ""
            },
            "colorscale": [
             [
              0,
              "#0d0887"
             ],
             [
              0.1111111111111111,
              "#46039f"
             ],
             [
              0.2222222222222222,
              "#7201a8"
             ],
             [
              0.3333333333333333,
              "#9c179e"
             ],
             [
              0.4444444444444444,
              "#bd3786"
             ],
             [
              0.5555555555555556,
              "#d8576b"
             ],
             [
              0.6666666666666666,
              "#ed7953"
             ],
             [
              0.7777777777777778,
              "#fb9f3a"
             ],
             [
              0.8888888888888888,
              "#fdca26"
             ],
             [
              1,
              "#f0f921"
             ]
            ],
            "type": "surface"
           }
          ],
          "table": [
           {
            "cells": {
             "fill": {
              "color": "#EBF0F8"
             },
             "line": {
              "color": "white"
             }
            },
            "header": {
             "fill": {
              "color": "#C8D4E3"
             },
             "line": {
              "color": "white"
             }
            },
            "type": "table"
           }
          ]
         },
         "layout": {
          "annotationdefaults": {
           "arrowcolor": "#2a3f5f",
           "arrowhead": 0,
           "arrowwidth": 1
          },
          "autotypenumbers": "strict",
          "coloraxis": {
           "colorbar": {
            "outlinewidth": 0,
            "ticks": ""
           }
          },
          "colorscale": {
           "diverging": [
            [
             0,
             "#8e0152"
            ],
            [
             0.1,
             "#c51b7d"
            ],
            [
             0.2,
             "#de77ae"
            ],
            [
             0.3,
             "#f1b6da"
            ],
            [
             0.4,
             "#fde0ef"
            ],
            [
             0.5,
             "#f7f7f7"
            ],
            [
             0.6,
             "#e6f5d0"
            ],
            [
             0.7,
             "#b8e186"
            ],
            [
             0.8,
             "#7fbc41"
            ],
            [
             0.9,
             "#4d9221"
            ],
            [
             1,
             "#276419"
            ]
           ],
           "sequential": [
            [
             0,
             "#0d0887"
            ],
            [
             0.1111111111111111,
             "#46039f"
            ],
            [
             0.2222222222222222,
             "#7201a8"
            ],
            [
             0.3333333333333333,
             "#9c179e"
            ],
            [
             0.4444444444444444,
             "#bd3786"
            ],
            [
             0.5555555555555556,
             "#d8576b"
            ],
            [
             0.6666666666666666,
             "#ed7953"
            ],
            [
             0.7777777777777778,
             "#fb9f3a"
            ],
            [
             0.8888888888888888,
             "#fdca26"
            ],
            [
             1,
             "#f0f921"
            ]
           ],
           "sequentialminus": [
            [
             0,
             "#0d0887"
            ],
            [
             0.1111111111111111,
             "#46039f"
            ],
            [
             0.2222222222222222,
             "#7201a8"
            ],
            [
             0.3333333333333333,
             "#9c179e"
            ],
            [
             0.4444444444444444,
             "#bd3786"
            ],
            [
             0.5555555555555556,
             "#d8576b"
            ],
            [
             0.6666666666666666,
             "#ed7953"
            ],
            [
             0.7777777777777778,
             "#fb9f3a"
            ],
            [
             0.8888888888888888,
             "#fdca26"
            ],
            [
             1,
             "#f0f921"
            ]
           ]
          },
          "colorway": [
           "#636efa",
           "#EF553B",
           "#00cc96",
           "#ab63fa",
           "#FFA15A",
           "#19d3f3",
           "#FF6692",
           "#B6E880",
           "#FF97FF",
           "#FECB52"
          ],
          "font": {
           "color": "#2a3f5f"
          },
          "geo": {
           "bgcolor": "white",
           "lakecolor": "white",
           "landcolor": "#E5ECF6",
           "showlakes": true,
           "showland": true,
           "subunitcolor": "white"
          },
          "hoverlabel": {
           "align": "left"
          },
          "hovermode": "closest",
          "mapbox": {
           "style": "light"
          },
          "paper_bgcolor": "white",
          "plot_bgcolor": "#E5ECF6",
          "polar": {
           "angularaxis": {
            "gridcolor": "white",
            "linecolor": "white",
            "ticks": ""
           },
           "bgcolor": "#E5ECF6",
           "radialaxis": {
            "gridcolor": "white",
            "linecolor": "white",
            "ticks": ""
           }
          },
          "scene": {
           "xaxis": {
            "backgroundcolor": "#E5ECF6",
            "gridcolor": "white",
            "gridwidth": 2,
            "linecolor": "white",
            "showbackground": true,
            "ticks": "",
            "zerolinecolor": "white"
           },
           "yaxis": {
            "backgroundcolor": "#E5ECF6",
            "gridcolor": "white",
            "gridwidth": 2,
            "linecolor": "white",
            "showbackground": true,
            "ticks": "",
            "zerolinecolor": "white"
           },
           "zaxis": {
            "backgroundcolor": "#E5ECF6",
            "gridcolor": "white",
            "gridwidth": 2,
            "linecolor": "white",
            "showbackground": true,
            "ticks": "",
            "zerolinecolor": "white"
           }
          },
          "shapedefaults": {
           "line": {
            "color": "#2a3f5f"
           }
          },
          "ternary": {
           "aaxis": {
            "gridcolor": "white",
            "linecolor": "white",
            "ticks": ""
           },
           "baxis": {
            "gridcolor": "white",
            "linecolor": "white",
            "ticks": ""
           },
           "bgcolor": "#E5ECF6",
           "caxis": {
            "gridcolor": "white",
            "linecolor": "white",
            "ticks": ""
           }
          },
          "title": {
           "x": 0.05
          },
          "xaxis": {
           "automargin": true,
           "gridcolor": "white",
           "linecolor": "white",
           "ticks": "",
           "title": {
            "standoff": 15
           },
           "zerolinecolor": "white",
           "zerolinewidth": 2
          },
          "yaxis": {
           "automargin": true,
           "gridcolor": "white",
           "linecolor": "white",
           "ticks": "",
           "title": {
            "standoff": 15
           },
           "zerolinecolor": "white",
           "zerolinewidth": 2
          }
         }
        }
       }
      }
     },
     "metadata": {},
     "output_type": "display_data"
    }
   ],
   "source": [
    "import plotly.express as px\n",
    "\n",
    "# Create a scatter plot on the map\n",
    "fig = px.scatter_mapbox(hotel_df, lat=\"Lat\", lon=\"Lng\", hover_name=\"City\",\n",
    "                        hover_data={\"Hotel Name\": True, \"Country\": True},\n",
    "                        color=\"Humidity\", size=\"Humidity\",\n",
    "                        color_continuous_scale=px.colors.sequential.Viridis,\n",
    "                        size_max=30, zoom=1)\n",
    "\n",
    "# Update layout to add additional information in hover message\n",
    "fig.update_layout(mapbox_style=\"open-street-map\",\n",
    "                  mapbox=dict(center=dict(lat=hotel_df[\"Lat\"].mean(), lon=hotel_df[\"Lng\"].mean())),\n",
    "                  hovermode='closest',\n",
    "                  margin=dict(l=0, r=0, t=0, b=0))\n",
    "\n",
    "# Show the map\n",
    "fig.show()\n"
   ]
  },
  {
   "cell_type": "code",
   "execution_count": null,
   "metadata": {},
   "outputs": [],
   "source": []
  }
 ],
 "metadata": {
  "kernelspec": {
   "display_name": "Python 3 (ipykernel)",
   "language": "python",
   "name": "python3"
  },
  "language_info": {
   "codemirror_mode": {
    "name": "ipython",
    "version": 3
   },
   "file_extension": ".py",
   "mimetype": "text/x-python",
   "name": "python",
   "nbconvert_exporter": "python",
   "pygments_lexer": "ipython3",
   "version": "3.11.9"
  },
  "latex_envs": {
   "LaTeX_envs_menu_present": true,
   "autoclose": false,
   "autocomplete": true,
   "bibliofile": "biblio.bib",
   "cite_by": "apalike",
   "current_citInitial": 1,
   "eqLabelWithNumbers": true,
   "eqNumInitial": 1,
   "hotkeys": {
    "equation": "Ctrl-E",
    "itemize": "Ctrl-I"
   },
   "labels_anchors": false,
   "latex_user_defs": false,
   "report_style_numbering": false,
   "user_envs_cfg": false
  }
 },
 "nbformat": 4,
 "nbformat_minor": 4
}
